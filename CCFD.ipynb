{
  "cells": [
    {
      "cell_type": "code",
      "execution_count": 1,
      "metadata": {
        "id": "j5aKWGp6gmIK"
      },
      "outputs": [],
      "source": [
        "import pandas as pd\n",
        "import matplotlib.pyplot as plt\n",
        "import seaborn as sns\n",
        "\n",
        "from sklearn.preprocessing import MinMaxScaler\n",
        "from sklearn.model_selection import train_test_split\n",
        "\n",
        "from sklearn.linear_model import LogisticRegression\n",
        "from sklearn.tree import DecisionTreeClassifier\n",
        "from sklearn.ensemble import RandomForestClassifier\n",
        "from sklearn.model_selection import GridSearchCV\n",
        "\n",
        "from sklearn.metrics import accuracy_score, recall_score, precision_score"
      ]
    },
    {
      "cell_type": "code",
      "execution_count": 2,
      "metadata": {
        "colab": {
          "base_uri": "https://localhost:8080/"
        },
        "id": "N56DqAvW5iC2",
        "outputId": "611618a2-f9dc-438a-8949-57c5ad8db82b"
      },
      "outputs": [
        {
          "name": "stdout",
          "output_type": "stream",
          "text": [
            "Requirement already satisfied: imbalanced-learn in /home/egor/anaconda3/lib/python3.10/site-packages (0.10.1)\n",
            "Requirement already satisfied: scipy>=1.3.2 in /home/egor/anaconda3/lib/python3.10/site-packages (from imbalanced-learn) (1.10.0)\n",
            "Requirement already satisfied: joblib>=1.1.1 in /home/egor/anaconda3/lib/python3.10/site-packages (from imbalanced-learn) (1.1.1)\n",
            "Requirement already satisfied: threadpoolctl>=2.0.0 in /home/egor/anaconda3/lib/python3.10/site-packages (from imbalanced-learn) (2.2.0)\n",
            "Requirement already satisfied: numpy>=1.17.3 in /home/egor/anaconda3/lib/python3.10/site-packages (from imbalanced-learn) (1.23.5)\n",
            "Requirement already satisfied: scikit-learn>=1.0.2 in /home/egor/anaconda3/lib/python3.10/site-packages (from imbalanced-learn) (1.2.1)\n"
          ]
        }
      ],
      "source": [
        "!pip install imbalanced-learn\n",
        "from imblearn.over_sampling import SMOTE"
      ]
    },
    {
      "cell_type": "code",
      "execution_count": 25,
      "metadata": {},
      "outputs": [
        {
          "name": "stdout",
          "output_type": "stream",
          "text": [
            "Collecting catboost\n",
            "  Downloading catboost-1.2-cp310-cp310-manylinux2014_x86_64.whl (98.6 MB)\n",
            "\u001b[2K     \u001b[90m━━━━━━━━━━━━━━━━━━━━━━━━━━━━━━━━━━━━━━━━\u001b[0m \u001b[32m98.6/98.6 MB\u001b[0m \u001b[31m24.3 MB/s\u001b[0m eta \u001b[36m0:00:00\u001b[0m00:01\u001b[0m00:01\u001b[0m\n",
            "\u001b[?25hRequirement already satisfied: pandas>=0.24 in /home/egor/anaconda3/lib/python3.10/site-packages (from catboost) (1.5.3)\n",
            "Requirement already satisfied: numpy>=1.16.0 in /home/egor/anaconda3/lib/python3.10/site-packages (from catboost) (1.23.5)\n",
            "Requirement already satisfied: plotly in /home/egor/anaconda3/lib/python3.10/site-packages (from catboost) (5.9.0)\n",
            "Requirement already satisfied: matplotlib in /home/egor/anaconda3/lib/python3.10/site-packages (from catboost) (3.7.0)\n",
            "Requirement already satisfied: six in /home/egor/anaconda3/lib/python3.10/site-packages (from catboost) (1.16.0)\n",
            "Requirement already satisfied: scipy in /home/egor/anaconda3/lib/python3.10/site-packages (from catboost) (1.10.0)\n",
            "Collecting graphviz\n",
            "  Downloading graphviz-0.20.1-py3-none-any.whl (47 kB)\n",
            "\u001b[2K     \u001b[90m━━━━━━━━━━━━━━━━━━━━━━━━━━━━━━━━━━━━━━━━\u001b[0m \u001b[32m47.0/47.0 kB\u001b[0m \u001b[31m4.5 MB/s\u001b[0m eta \u001b[36m0:00:00\u001b[0m\n",
            "\u001b[?25hRequirement already satisfied: python-dateutil>=2.8.1 in /home/egor/anaconda3/lib/python3.10/site-packages (from pandas>=0.24->catboost) (2.8.2)\n",
            "Requirement already satisfied: pytz>=2020.1 in /home/egor/anaconda3/lib/python3.10/site-packages (from pandas>=0.24->catboost) (2022.7)\n",
            "Requirement already satisfied: fonttools>=4.22.0 in /home/egor/anaconda3/lib/python3.10/site-packages (from matplotlib->catboost) (4.25.0)\n",
            "Requirement already satisfied: pyparsing>=2.3.1 in /home/egor/anaconda3/lib/python3.10/site-packages (from matplotlib->catboost) (3.0.9)\n",
            "Requirement already satisfied: kiwisolver>=1.0.1 in /home/egor/anaconda3/lib/python3.10/site-packages (from matplotlib->catboost) (1.4.4)\n",
            "Requirement already satisfied: contourpy>=1.0.1 in /home/egor/anaconda3/lib/python3.10/site-packages (from matplotlib->catboost) (1.0.5)\n",
            "Requirement already satisfied: pillow>=6.2.0 in /home/egor/anaconda3/lib/python3.10/site-packages (from matplotlib->catboost) (9.4.0)\n",
            "Requirement already satisfied: packaging>=20.0 in /home/egor/anaconda3/lib/python3.10/site-packages (from matplotlib->catboost) (22.0)\n",
            "Requirement already satisfied: cycler>=0.10 in /home/egor/anaconda3/lib/python3.10/site-packages (from matplotlib->catboost) (0.11.0)\n",
            "Requirement already satisfied: tenacity>=6.2.0 in /home/egor/anaconda3/lib/python3.10/site-packages (from plotly->catboost) (8.0.1)\n",
            "Installing collected packages: graphviz, catboost\n",
            "Successfully installed catboost-1.2 graphviz-0.20.1\n"
          ]
        }
      ],
      "source": [
        "!pip install catboost\n",
        "from catboost import CatBoostClassifier"
      ]
    },
    {
      "cell_type": "code",
      "execution_count": 3,
      "metadata": {
        "colab": {
          "base_uri": "https://localhost:8080/"
        },
        "id": "lg1_vgl2eIvh",
        "outputId": "9f4affe4-a9bf-450a-fed0-e0e4ada304d2"
      },
      "outputs": [],
      "source": [
        "# from google.colab import files\n",
        "# from google.colab import drive\n",
        "# drive.mount('/content/drive')"
      ]
    },
    {
      "cell_type": "code",
      "execution_count": 4,
      "metadata": {
        "id": "ykE9ZgdYjcG-"
      },
      "outputs": [],
      "source": [
        "# файлы импортируются из гугл диска\n",
        "# creditcard = pd.read_csv('/content/drive/MyDrive/Colab Notebooks/files/creditcard.csv')"
      ]
    },
    {
      "cell_type": "code",
      "execution_count": 5,
      "metadata": {
        "id": "DrRdmx3dls_A"
      },
      "outputs": [],
      "source": [
        "# файлы импортируются с компьютера\n",
        "creditcard = pd.read_csv('creditcard.csv')"
      ]
    },
    {
      "cell_type": "code",
      "execution_count": 6,
      "metadata": {
        "colab": {
          "base_uri": "https://localhost:8080/",
          "height": 392
        },
        "id": "lywaFrlxjjyW",
        "outputId": "06be418a-6647-4c49-f922-83f2ccf7d945"
      },
      "outputs": [
        {
          "data": {
            "text/html": [
              "<div>\n",
              "<style scoped>\n",
              "    .dataframe tbody tr th:only-of-type {\n",
              "        vertical-align: middle;\n",
              "    }\n",
              "\n",
              "    .dataframe tbody tr th {\n",
              "        vertical-align: top;\n",
              "    }\n",
              "\n",
              "    .dataframe thead th {\n",
              "        text-align: right;\n",
              "    }\n",
              "</style>\n",
              "<table border=\"1\" class=\"dataframe\">\n",
              "  <thead>\n",
              "    <tr style=\"text-align: right;\">\n",
              "      <th></th>\n",
              "      <th>Time</th>\n",
              "      <th>V1</th>\n",
              "      <th>V2</th>\n",
              "      <th>V3</th>\n",
              "      <th>V4</th>\n",
              "      <th>V5</th>\n",
              "      <th>V6</th>\n",
              "      <th>V7</th>\n",
              "      <th>V8</th>\n",
              "      <th>V9</th>\n",
              "      <th>...</th>\n",
              "      <th>V21</th>\n",
              "      <th>V22</th>\n",
              "      <th>V23</th>\n",
              "      <th>V24</th>\n",
              "      <th>V25</th>\n",
              "      <th>V26</th>\n",
              "      <th>V27</th>\n",
              "      <th>V28</th>\n",
              "      <th>Amount</th>\n",
              "      <th>Class</th>\n",
              "    </tr>\n",
              "  </thead>\n",
              "  <tbody>\n",
              "    <tr>\n",
              "      <th>0</th>\n",
              "      <td>0.0</td>\n",
              "      <td>-1.359807</td>\n",
              "      <td>-0.072781</td>\n",
              "      <td>2.536347</td>\n",
              "      <td>1.378155</td>\n",
              "      <td>-0.338321</td>\n",
              "      <td>0.462388</td>\n",
              "      <td>0.239599</td>\n",
              "      <td>0.098698</td>\n",
              "      <td>0.363787</td>\n",
              "      <td>...</td>\n",
              "      <td>-0.018307</td>\n",
              "      <td>0.277838</td>\n",
              "      <td>-0.110474</td>\n",
              "      <td>0.066928</td>\n",
              "      <td>0.128539</td>\n",
              "      <td>-0.189115</td>\n",
              "      <td>0.133558</td>\n",
              "      <td>-0.021053</td>\n",
              "      <td>149.62</td>\n",
              "      <td>0</td>\n",
              "    </tr>\n",
              "    <tr>\n",
              "      <th>1</th>\n",
              "      <td>0.0</td>\n",
              "      <td>1.191857</td>\n",
              "      <td>0.266151</td>\n",
              "      <td>0.166480</td>\n",
              "      <td>0.448154</td>\n",
              "      <td>0.060018</td>\n",
              "      <td>-0.082361</td>\n",
              "      <td>-0.078803</td>\n",
              "      <td>0.085102</td>\n",
              "      <td>-0.255425</td>\n",
              "      <td>...</td>\n",
              "      <td>-0.225775</td>\n",
              "      <td>-0.638672</td>\n",
              "      <td>0.101288</td>\n",
              "      <td>-0.339846</td>\n",
              "      <td>0.167170</td>\n",
              "      <td>0.125895</td>\n",
              "      <td>-0.008983</td>\n",
              "      <td>0.014724</td>\n",
              "      <td>2.69</td>\n",
              "      <td>0</td>\n",
              "    </tr>\n",
              "    <tr>\n",
              "      <th>2</th>\n",
              "      <td>1.0</td>\n",
              "      <td>-1.358354</td>\n",
              "      <td>-1.340163</td>\n",
              "      <td>1.773209</td>\n",
              "      <td>0.379780</td>\n",
              "      <td>-0.503198</td>\n",
              "      <td>1.800499</td>\n",
              "      <td>0.791461</td>\n",
              "      <td>0.247676</td>\n",
              "      <td>-1.514654</td>\n",
              "      <td>...</td>\n",
              "      <td>0.247998</td>\n",
              "      <td>0.771679</td>\n",
              "      <td>0.909412</td>\n",
              "      <td>-0.689281</td>\n",
              "      <td>-0.327642</td>\n",
              "      <td>-0.139097</td>\n",
              "      <td>-0.055353</td>\n",
              "      <td>-0.059752</td>\n",
              "      <td>378.66</td>\n",
              "      <td>0</td>\n",
              "    </tr>\n",
              "    <tr>\n",
              "      <th>3</th>\n",
              "      <td>1.0</td>\n",
              "      <td>-0.966272</td>\n",
              "      <td>-0.185226</td>\n",
              "      <td>1.792993</td>\n",
              "      <td>-0.863291</td>\n",
              "      <td>-0.010309</td>\n",
              "      <td>1.247203</td>\n",
              "      <td>0.237609</td>\n",
              "      <td>0.377436</td>\n",
              "      <td>-1.387024</td>\n",
              "      <td>...</td>\n",
              "      <td>-0.108300</td>\n",
              "      <td>0.005274</td>\n",
              "      <td>-0.190321</td>\n",
              "      <td>-1.175575</td>\n",
              "      <td>0.647376</td>\n",
              "      <td>-0.221929</td>\n",
              "      <td>0.062723</td>\n",
              "      <td>0.061458</td>\n",
              "      <td>123.50</td>\n",
              "      <td>0</td>\n",
              "    </tr>\n",
              "    <tr>\n",
              "      <th>4</th>\n",
              "      <td>2.0</td>\n",
              "      <td>-1.158233</td>\n",
              "      <td>0.877737</td>\n",
              "      <td>1.548718</td>\n",
              "      <td>0.403034</td>\n",
              "      <td>-0.407193</td>\n",
              "      <td>0.095921</td>\n",
              "      <td>0.592941</td>\n",
              "      <td>-0.270533</td>\n",
              "      <td>0.817739</td>\n",
              "      <td>...</td>\n",
              "      <td>-0.009431</td>\n",
              "      <td>0.798278</td>\n",
              "      <td>-0.137458</td>\n",
              "      <td>0.141267</td>\n",
              "      <td>-0.206010</td>\n",
              "      <td>0.502292</td>\n",
              "      <td>0.219422</td>\n",
              "      <td>0.215153</td>\n",
              "      <td>69.99</td>\n",
              "      <td>0</td>\n",
              "    </tr>\n",
              "    <tr>\n",
              "      <th>5</th>\n",
              "      <td>2.0</td>\n",
              "      <td>-0.425966</td>\n",
              "      <td>0.960523</td>\n",
              "      <td>1.141109</td>\n",
              "      <td>-0.168252</td>\n",
              "      <td>0.420987</td>\n",
              "      <td>-0.029728</td>\n",
              "      <td>0.476201</td>\n",
              "      <td>0.260314</td>\n",
              "      <td>-0.568671</td>\n",
              "      <td>...</td>\n",
              "      <td>-0.208254</td>\n",
              "      <td>-0.559825</td>\n",
              "      <td>-0.026398</td>\n",
              "      <td>-0.371427</td>\n",
              "      <td>-0.232794</td>\n",
              "      <td>0.105915</td>\n",
              "      <td>0.253844</td>\n",
              "      <td>0.081080</td>\n",
              "      <td>3.67</td>\n",
              "      <td>0</td>\n",
              "    </tr>\n",
              "    <tr>\n",
              "      <th>6</th>\n",
              "      <td>4.0</td>\n",
              "      <td>1.229658</td>\n",
              "      <td>0.141004</td>\n",
              "      <td>0.045371</td>\n",
              "      <td>1.202613</td>\n",
              "      <td>0.191881</td>\n",
              "      <td>0.272708</td>\n",
              "      <td>-0.005159</td>\n",
              "      <td>0.081213</td>\n",
              "      <td>0.464960</td>\n",
              "      <td>...</td>\n",
              "      <td>-0.167716</td>\n",
              "      <td>-0.270710</td>\n",
              "      <td>-0.154104</td>\n",
              "      <td>-0.780055</td>\n",
              "      <td>0.750137</td>\n",
              "      <td>-0.257237</td>\n",
              "      <td>0.034507</td>\n",
              "      <td>0.005168</td>\n",
              "      <td>4.99</td>\n",
              "      <td>0</td>\n",
              "    </tr>\n",
              "    <tr>\n",
              "      <th>7</th>\n",
              "      <td>7.0</td>\n",
              "      <td>-0.644269</td>\n",
              "      <td>1.417964</td>\n",
              "      <td>1.074380</td>\n",
              "      <td>-0.492199</td>\n",
              "      <td>0.948934</td>\n",
              "      <td>0.428118</td>\n",
              "      <td>1.120631</td>\n",
              "      <td>-3.807864</td>\n",
              "      <td>0.615375</td>\n",
              "      <td>...</td>\n",
              "      <td>1.943465</td>\n",
              "      <td>-1.015455</td>\n",
              "      <td>0.057504</td>\n",
              "      <td>-0.649709</td>\n",
              "      <td>-0.415267</td>\n",
              "      <td>-0.051634</td>\n",
              "      <td>-1.206921</td>\n",
              "      <td>-1.085339</td>\n",
              "      <td>40.80</td>\n",
              "      <td>0</td>\n",
              "    </tr>\n",
              "    <tr>\n",
              "      <th>8</th>\n",
              "      <td>7.0</td>\n",
              "      <td>-0.894286</td>\n",
              "      <td>0.286157</td>\n",
              "      <td>-0.113192</td>\n",
              "      <td>-0.271526</td>\n",
              "      <td>2.669599</td>\n",
              "      <td>3.721818</td>\n",
              "      <td>0.370145</td>\n",
              "      <td>0.851084</td>\n",
              "      <td>-0.392048</td>\n",
              "      <td>...</td>\n",
              "      <td>-0.073425</td>\n",
              "      <td>-0.268092</td>\n",
              "      <td>-0.204233</td>\n",
              "      <td>1.011592</td>\n",
              "      <td>0.373205</td>\n",
              "      <td>-0.384157</td>\n",
              "      <td>0.011747</td>\n",
              "      <td>0.142404</td>\n",
              "      <td>93.20</td>\n",
              "      <td>0</td>\n",
              "    </tr>\n",
              "    <tr>\n",
              "      <th>9</th>\n",
              "      <td>9.0</td>\n",
              "      <td>-0.338262</td>\n",
              "      <td>1.119593</td>\n",
              "      <td>1.044367</td>\n",
              "      <td>-0.222187</td>\n",
              "      <td>0.499361</td>\n",
              "      <td>-0.246761</td>\n",
              "      <td>0.651583</td>\n",
              "      <td>0.069539</td>\n",
              "      <td>-0.736727</td>\n",
              "      <td>...</td>\n",
              "      <td>-0.246914</td>\n",
              "      <td>-0.633753</td>\n",
              "      <td>-0.120794</td>\n",
              "      <td>-0.385050</td>\n",
              "      <td>-0.069733</td>\n",
              "      <td>0.094199</td>\n",
              "      <td>0.246219</td>\n",
              "      <td>0.083076</td>\n",
              "      <td>3.68</td>\n",
              "      <td>0</td>\n",
              "    </tr>\n",
              "  </tbody>\n",
              "</table>\n",
              "<p>10 rows × 31 columns</p>\n",
              "</div>"
            ],
            "text/plain": [
              "   Time        V1        V2        V3        V4        V5        V6        V7  \\\n",
              "0   0.0 -1.359807 -0.072781  2.536347  1.378155 -0.338321  0.462388  0.239599   \n",
              "1   0.0  1.191857  0.266151  0.166480  0.448154  0.060018 -0.082361 -0.078803   \n",
              "2   1.0 -1.358354 -1.340163  1.773209  0.379780 -0.503198  1.800499  0.791461   \n",
              "3   1.0 -0.966272 -0.185226  1.792993 -0.863291 -0.010309  1.247203  0.237609   \n",
              "4   2.0 -1.158233  0.877737  1.548718  0.403034 -0.407193  0.095921  0.592941   \n",
              "5   2.0 -0.425966  0.960523  1.141109 -0.168252  0.420987 -0.029728  0.476201   \n",
              "6   4.0  1.229658  0.141004  0.045371  1.202613  0.191881  0.272708 -0.005159   \n",
              "7   7.0 -0.644269  1.417964  1.074380 -0.492199  0.948934  0.428118  1.120631   \n",
              "8   7.0 -0.894286  0.286157 -0.113192 -0.271526  2.669599  3.721818  0.370145   \n",
              "9   9.0 -0.338262  1.119593  1.044367 -0.222187  0.499361 -0.246761  0.651583   \n",
              "\n",
              "         V8        V9  ...       V21       V22       V23       V24       V25  \\\n",
              "0  0.098698  0.363787  ... -0.018307  0.277838 -0.110474  0.066928  0.128539   \n",
              "1  0.085102 -0.255425  ... -0.225775 -0.638672  0.101288 -0.339846  0.167170   \n",
              "2  0.247676 -1.514654  ...  0.247998  0.771679  0.909412 -0.689281 -0.327642   \n",
              "3  0.377436 -1.387024  ... -0.108300  0.005274 -0.190321 -1.175575  0.647376   \n",
              "4 -0.270533  0.817739  ... -0.009431  0.798278 -0.137458  0.141267 -0.206010   \n",
              "5  0.260314 -0.568671  ... -0.208254 -0.559825 -0.026398 -0.371427 -0.232794   \n",
              "6  0.081213  0.464960  ... -0.167716 -0.270710 -0.154104 -0.780055  0.750137   \n",
              "7 -3.807864  0.615375  ...  1.943465 -1.015455  0.057504 -0.649709 -0.415267   \n",
              "8  0.851084 -0.392048  ... -0.073425 -0.268092 -0.204233  1.011592  0.373205   \n",
              "9  0.069539 -0.736727  ... -0.246914 -0.633753 -0.120794 -0.385050 -0.069733   \n",
              "\n",
              "        V26       V27       V28  Amount  Class  \n",
              "0 -0.189115  0.133558 -0.021053  149.62      0  \n",
              "1  0.125895 -0.008983  0.014724    2.69      0  \n",
              "2 -0.139097 -0.055353 -0.059752  378.66      0  \n",
              "3 -0.221929  0.062723  0.061458  123.50      0  \n",
              "4  0.502292  0.219422  0.215153   69.99      0  \n",
              "5  0.105915  0.253844  0.081080    3.67      0  \n",
              "6 -0.257237  0.034507  0.005168    4.99      0  \n",
              "7 -0.051634 -1.206921 -1.085339   40.80      0  \n",
              "8 -0.384157  0.011747  0.142404   93.20      0  \n",
              "9  0.094199  0.246219  0.083076    3.68      0  \n",
              "\n",
              "[10 rows x 31 columns]"
            ]
          },
          "execution_count": 6,
          "metadata": {},
          "output_type": "execute_result"
        }
      ],
      "source": [
        "creditcard.head(10)"
      ]
    },
    {
      "cell_type": "code",
      "execution_count": 7,
      "metadata": {
        "colab": {
          "base_uri": "https://localhost:8080/"
        },
        "id": "h9tp0_EDsckf",
        "outputId": "60ed501b-e429-442d-d44d-ff3f9fb9646f"
      },
      "outputs": [
        {
          "name": "stdout",
          "output_type": "stream",
          "text": [
            "<class 'pandas.core.frame.DataFrame'>\n",
            "RangeIndex: 284807 entries, 0 to 284806\n",
            "Data columns (total 31 columns):\n",
            " #   Column  Non-Null Count   Dtype  \n",
            "---  ------  --------------   -----  \n",
            " 0   Time    284807 non-null  float64\n",
            " 1   V1      284807 non-null  float64\n",
            " 2   V2      284807 non-null  float64\n",
            " 3   V3      284807 non-null  float64\n",
            " 4   V4      284807 non-null  float64\n",
            " 5   V5      284807 non-null  float64\n",
            " 6   V6      284807 non-null  float64\n",
            " 7   V7      284807 non-null  float64\n",
            " 8   V8      284807 non-null  float64\n",
            " 9   V9      284807 non-null  float64\n",
            " 10  V10     284807 non-null  float64\n",
            " 11  V11     284807 non-null  float64\n",
            " 12  V12     284807 non-null  float64\n",
            " 13  V13     284807 non-null  float64\n",
            " 14  V14     284807 non-null  float64\n",
            " 15  V15     284807 non-null  float64\n",
            " 16  V16     284807 non-null  float64\n",
            " 17  V17     284807 non-null  float64\n",
            " 18  V18     284807 non-null  float64\n",
            " 19  V19     284807 non-null  float64\n",
            " 20  V20     284807 non-null  float64\n",
            " 21  V21     284807 non-null  float64\n",
            " 22  V22     284807 non-null  float64\n",
            " 23  V23     284807 non-null  float64\n",
            " 24  V24     284807 non-null  float64\n",
            " 25  V25     284807 non-null  float64\n",
            " 26  V26     284807 non-null  float64\n",
            " 27  V27     284807 non-null  float64\n",
            " 28  V28     284807 non-null  float64\n",
            " 29  Amount  284807 non-null  float64\n",
            " 30  Class   284807 non-null  int64  \n",
            "dtypes: float64(30), int64(1)\n",
            "memory usage: 67.4 MB\n"
          ]
        }
      ],
      "source": [
        "creditcard.info()"
      ]
    },
    {
      "cell_type": "code",
      "execution_count": 8,
      "metadata": {
        "colab": {
          "base_uri": "https://localhost:8080/"
        },
        "id": "UKqR5iLF5iC4",
        "outputId": "1dfdfed5-a6c1-4ec8-e6c0-20868ad2cd3f"
      },
      "outputs": [
        {
          "data": {
            "text/plain": [
              "(284807, 31)"
            ]
          },
          "execution_count": 8,
          "metadata": {},
          "output_type": "execute_result"
        }
      ],
      "source": [
        "creditcard.shape"
      ]
    },
    {
      "cell_type": "code",
      "execution_count": 9,
      "metadata": {
        "colab": {
          "base_uri": "https://localhost:8080/"
        },
        "id": "OBt8-Ee1sygy",
        "outputId": "6ce5e6e6-6bf7-4125-f974-bf0f31665ad1"
      },
      "outputs": [
        {
          "data": {
            "text/plain": [
              "Time      0\n",
              "V1        0\n",
              "V2        0\n",
              "V3        0\n",
              "V4        0\n",
              "V5        0\n",
              "V6        0\n",
              "V7        0\n",
              "V8        0\n",
              "V9        0\n",
              "V10       0\n",
              "V11       0\n",
              "V12       0\n",
              "V13       0\n",
              "V14       0\n",
              "V15       0\n",
              "V16       0\n",
              "V17       0\n",
              "V18       0\n",
              "V19       0\n",
              "V20       0\n",
              "V21       0\n",
              "V22       0\n",
              "V23       0\n",
              "V24       0\n",
              "V25       0\n",
              "V26       0\n",
              "V27       0\n",
              "V28       0\n",
              "Amount    0\n",
              "Class     0\n",
              "dtype: int64"
            ]
          },
          "execution_count": 9,
          "metadata": {},
          "output_type": "execute_result"
        }
      ],
      "source": [
        "creditcard.isna().sum()"
      ]
    },
    {
      "cell_type": "code",
      "execution_count": 10,
      "metadata": {
        "colab": {
          "base_uri": "https://localhost:8080/",
          "height": 893
        },
        "id": "PCXNv_Kh5iC4",
        "outputId": "105a770e-b482-4ead-b051-a7fb4373e81e"
      },
      "outputs": [
        {
          "data": {
            "text/plain": [
              "<Axes: >"
            ]
          },
          "execution_count": 10,
          "metadata": {},
          "output_type": "execute_result"
        },
        {
          "data": {
            "image/png": "[encoded data removed]",
            "text/plain": [
              "<Figure size 1000x1000 with 2 Axes>"
            ]
          },
          "metadata": {},
          "output_type": "display_data"
        }
      ],
      "source": [
        "plt.figure(figsize=(10,10))\n",
        "corr = creditcard.corr()\n",
        "sns.heatmap(corr, cmap = \"YlGnBu\")"
      ]
    },
    {
      "cell_type": "code",
      "execution_count": 11,
      "metadata": {
        "colab": {
          "base_uri": "https://localhost:8080/"
        },
        "id": "F5H4azC55iC5",
        "outputId": "4bfb0b9a-b59d-4c58-8480-d162fb03cf4b"
      },
      "outputs": [
        {
          "name": "stdout",
          "output_type": "stream",
          "text": [
            "27\n",
            "{'V24', 'V5', 'V19', 'V7', 'V14', 'V2', 'V21', 'V16', 'V26', 'V22', 'V6', 'V1', 'V25', 'V13', 'V8', 'V15', 'V4', 'V17', 'Class', 'Amount', 'V10', 'V11', 'V20', 'V23', 'V12', 'V18', 'V3'}\n"
          ]
        }
      ],
      "source": [
        "correlated_features = set()\n",
        "\n",
        "for i in range(len(corr.columns)):\n",
        "    for j in range(i):\n",
        "        if abs(corr.iloc[i, j]) > 0.01:\n",
        "            colname = corr.columns[i]\n",
        "            correlated_features.add(colname)\n",
        "\n",
        "print(len(correlated_features))\n",
        "print(correlated_features)"
      ]
    },
    {
      "cell_type": "code",
      "execution_count": 12,
      "metadata": {
        "id": "WRWpepBO5iC5"
      },
      "outputs": [],
      "source": [
        "X = creditcard.drop(columns=['Class'])\n",
        "y = creditcard['Class']"
      ]
    },
    {
      "cell_type": "code",
      "execution_count": 13,
      "metadata": {
        "colab": {
          "base_uri": "https://localhost:8080/"
        },
        "id": "wdWjP5765iC5",
        "outputId": "ef838274-71a4-4fab-9a26-1226f8576403"
      },
      "outputs": [
        {
          "name": "stdout",
          "output_type": "stream",
          "text": [
            "(568630, 30) (568630, 1)\n"
          ]
        },
        {
          "data": {
            "text/plain": [
              "Class\n",
              "0        284315\n",
              "1        284315\n",
              "dtype: int64"
            ]
          },
          "execution_count": 13,
          "metadata": {},
          "output_type": "execute_result"
        }
      ],
      "source": [
        "os = SMOTE(random_state = 123, k_neighbors = 25)\n",
        "\n",
        "column = X.columns\n",
        "test = creditcard.columns\n",
        "\n",
        "X_os, y_os = os.fit_resample(X, y)\n",
        "X_os = pd.DataFrame(data = X_os, columns = column)\n",
        "y_os = pd.DataFrame(data = y_os, columns = ['Class'])\n",
        "\n",
        "creditcard_os = pd.DataFrame(data = X_os, columns = test)\n",
        "\n",
        "print(X_os.shape, y_os.shape)\n",
        "y_os.value_counts()"
      ]
    },
    {
      "cell_type": "code",
      "execution_count": 14,
      "metadata": {
        "colab": {
          "base_uri": "https://localhost:8080/",
          "height": 1000
        },
        "id": "wud_zv125iC5",
        "outputId": "16e139d2-5b62-4164-e0d3-6562b4a3e838"
      },
      "outputs": [
        {
          "data": {
            "text/plain": [
              "<Axes: >"
            ]
          },
          "execution_count": 14,
          "metadata": {},
          "output_type": "execute_result"
        },
        {
          "data": {
            "image/png": "[encoded data removed]",
            "text/plain": [
              "<Figure size 1500x1500 with 2 Axes>"
            ]
          },
          "metadata": {},
          "output_type": "display_data"
        }
      ],
      "source": [
        "plt.figure(figsize=(15,15))\n",
        "corr = creditcard_os.corr()\n",
        "sns.heatmap(corr, cmap = \"YlGnBu\")"
      ]
    },
    {
      "cell_type": "code",
      "execution_count": 15,
      "metadata": {
        "colab": {
          "base_uri": "https://localhost:8080/"
        },
        "id": "du8RYC0t5iC6",
        "outputId": "a202fd0b-9045-4b18-b983-3c1b7ef479b4"
      },
      "outputs": [
        {
          "name": "stdout",
          "output_type": "stream",
          "text": [
            "14\n",
            "{'V7', 'V14', 'V2', 'V9', 'V12', 'V4', 'V16', 'V22', 'V18', 'V17', 'V5', 'V3', 'V10', 'V11'}\n"
          ]
        }
      ],
      "source": [
        "correlated_features = set()\n",
        "\n",
        "for i in range(len(corr.columns)):\n",
        "    for j in range(i):\n",
        "        if abs(corr.iloc[i, j]) > 0.7:\n",
        "            colname = corr.columns[i]\n",
        "            correlated_features.add(colname)\n",
        "\n",
        "print(len(correlated_features))\n",
        "print(correlated_features)"
      ]
    },
    {
      "cell_type": "code",
      "execution_count": 16,
      "metadata": {
        "colab": {
          "base_uri": "https://localhost:8080/",
          "height": 424
        },
        "id": "mRk32i005iC6",
        "outputId": "b82d5882-bba5-4c0a-b024-9471182c6847"
      },
      "outputs": [
        {
          "data": {
            "text/html": [
              "<div>\n",
              "<style scoped>\n",
              "    .dataframe tbody tr th:only-of-type {\n",
              "        vertical-align: middle;\n",
              "    }\n",
              "\n",
              "    .dataframe tbody tr th {\n",
              "        vertical-align: top;\n",
              "    }\n",
              "\n",
              "    .dataframe thead th {\n",
              "        text-align: right;\n",
              "    }\n",
              "</style>\n",
              "<table border=\"1\" class=\"dataframe\">\n",
              "  <thead>\n",
              "    <tr style=\"text-align: right;\">\n",
              "      <th></th>\n",
              "      <th>V7</th>\n",
              "      <th>V14</th>\n",
              "      <th>V2</th>\n",
              "      <th>V9</th>\n",
              "      <th>V12</th>\n",
              "      <th>V4</th>\n",
              "      <th>V16</th>\n",
              "      <th>V22</th>\n",
              "      <th>V18</th>\n",
              "      <th>V17</th>\n",
              "      <th>V5</th>\n",
              "      <th>V3</th>\n",
              "      <th>V10</th>\n",
              "      <th>V11</th>\n",
              "    </tr>\n",
              "  </thead>\n",
              "  <tbody>\n",
              "    <tr>\n",
              "      <th>0</th>\n",
              "      <td>0.239599</td>\n",
              "      <td>-0.311169</td>\n",
              "      <td>-0.072781</td>\n",
              "      <td>0.363787</td>\n",
              "      <td>-0.617801</td>\n",
              "      <td>1.378155</td>\n",
              "      <td>-0.470401</td>\n",
              "      <td>0.277838</td>\n",
              "      <td>0.025791</td>\n",
              "      <td>0.207971</td>\n",
              "      <td>-0.338321</td>\n",
              "      <td>2.536347</td>\n",
              "      <td>0.090794</td>\n",
              "      <td>-0.551600</td>\n",
              "    </tr>\n",
              "    <tr>\n",
              "      <th>1</th>\n",
              "      <td>-0.078803</td>\n",
              "      <td>-0.143772</td>\n",
              "      <td>0.266151</td>\n",
              "      <td>-0.255425</td>\n",
              "      <td>1.065235</td>\n",
              "      <td>0.448154</td>\n",
              "      <td>0.463917</td>\n",
              "      <td>-0.638672</td>\n",
              "      <td>-0.183361</td>\n",
              "      <td>-0.114805</td>\n",
              "      <td>0.060018</td>\n",
              "      <td>0.166480</td>\n",
              "      <td>-0.166974</td>\n",
              "      <td>1.612727</td>\n",
              "    </tr>\n",
              "    <tr>\n",
              "      <th>2</th>\n",
              "      <td>0.791461</td>\n",
              "      <td>-0.165946</td>\n",
              "      <td>-1.340163</td>\n",
              "      <td>-1.514654</td>\n",
              "      <td>0.066084</td>\n",
              "      <td>0.379780</td>\n",
              "      <td>-2.890083</td>\n",
              "      <td>0.771679</td>\n",
              "      <td>-0.121359</td>\n",
              "      <td>1.109969</td>\n",
              "      <td>-0.503198</td>\n",
              "      <td>1.773209</td>\n",
              "      <td>0.207643</td>\n",
              "      <td>0.624501</td>\n",
              "    </tr>\n",
              "    <tr>\n",
              "      <th>3</th>\n",
              "      <td>0.237609</td>\n",
              "      <td>-0.287924</td>\n",
              "      <td>-0.185226</td>\n",
              "      <td>-1.387024</td>\n",
              "      <td>0.178228</td>\n",
              "      <td>-0.863291</td>\n",
              "      <td>-1.059647</td>\n",
              "      <td>0.005274</td>\n",
              "      <td>1.965775</td>\n",
              "      <td>-0.684093</td>\n",
              "      <td>-0.010309</td>\n",
              "      <td>1.792993</td>\n",
              "      <td>-0.054952</td>\n",
              "      <td>-0.226487</td>\n",
              "    </tr>\n",
              "    <tr>\n",
              "      <th>4</th>\n",
              "      <td>0.592941</td>\n",
              "      <td>-1.119670</td>\n",
              "      <td>0.877737</td>\n",
              "      <td>0.817739</td>\n",
              "      <td>0.538196</td>\n",
              "      <td>0.403034</td>\n",
              "      <td>-0.451449</td>\n",
              "      <td>0.798278</td>\n",
              "      <td>-0.038195</td>\n",
              "      <td>-0.237033</td>\n",
              "      <td>-0.407193</td>\n",
              "      <td>1.548718</td>\n",
              "      <td>0.753074</td>\n",
              "      <td>-0.822843</td>\n",
              "    </tr>\n",
              "    <tr>\n",
              "      <th>...</th>\n",
              "      <td>...</td>\n",
              "      <td>...</td>\n",
              "      <td>...</td>\n",
              "      <td>...</td>\n",
              "      <td>...</td>\n",
              "      <td>...</td>\n",
              "      <td>...</td>\n",
              "      <td>...</td>\n",
              "      <td>...</td>\n",
              "      <td>...</td>\n",
              "      <td>...</td>\n",
              "      <td>...</td>\n",
              "      <td>...</td>\n",
              "      <td>...</td>\n",
              "    </tr>\n",
              "    <tr>\n",
              "      <th>568625</th>\n",
              "      <td>-1.388311</td>\n",
              "      <td>-5.372057</td>\n",
              "      <td>2.610742</td>\n",
              "      <td>-2.709672</td>\n",
              "      <td>-2.832774</td>\n",
              "      <td>5.307966</td>\n",
              "      <td>-0.730311</td>\n",
              "      <td>-0.121587</td>\n",
              "      <td>0.599473</td>\n",
              "      <td>0.709593</td>\n",
              "      <td>1.130779</td>\n",
              "      <td>-3.207583</td>\n",
              "      <td>-1.949727</td>\n",
              "      <td>0.801464</td>\n",
              "    </tr>\n",
              "    <tr>\n",
              "      <th>568626</th>\n",
              "      <td>-9.869908</td>\n",
              "      <td>-6.883882</td>\n",
              "      <td>3.156097</td>\n",
              "      <td>-3.867216</td>\n",
              "      <td>-7.056479</td>\n",
              "      <td>5.023684</td>\n",
              "      <td>-6.681150</td>\n",
              "      <td>1.253258</td>\n",
              "      <td>-4.034154</td>\n",
              "      <td>-11.384292</td>\n",
              "      <td>-4.129239</td>\n",
              "      <td>-7.383136</td>\n",
              "      <td>-7.613315</td>\n",
              "      <td>5.172280</td>\n",
              "    </tr>\n",
              "    <tr>\n",
              "      <th>568627</th>\n",
              "      <td>-3.733022</td>\n",
              "      <td>-7.423231</td>\n",
              "      <td>1.650258</td>\n",
              "      <td>-2.898127</td>\n",
              "      <td>-4.943861</td>\n",
              "      <td>4.383815</td>\n",
              "      <td>-3.003840</td>\n",
              "      <td>0.167449</td>\n",
              "      <td>-1.632431</td>\n",
              "      <td>-7.099265</td>\n",
              "      <td>-0.442760</td>\n",
              "      <td>-4.441795</td>\n",
              "      <td>-4.907986</td>\n",
              "      <td>3.467059</td>\n",
              "    </tr>\n",
              "    <tr>\n",
              "      <th>568628</th>\n",
              "      <td>-12.345563</td>\n",
              "      <td>-14.629153</td>\n",
              "      <td>5.267711</td>\n",
              "      <td>-6.234464</td>\n",
              "      <td>-13.402615</td>\n",
              "      <td>7.728912</td>\n",
              "      <td>-11.720289</td>\n",
              "      <td>0.144527</td>\n",
              "      <td>-7.756639</td>\n",
              "      <td>-21.043556</td>\n",
              "      <td>-7.962640</td>\n",
              "      <td>-11.528198</td>\n",
              "      <td>-12.587549</td>\n",
              "      <td>7.384305</td>\n",
              "    </tr>\n",
              "    <tr>\n",
              "      <th>568629</th>\n",
              "      <td>-7.167808</td>\n",
              "      <td>-8.703154</td>\n",
              "      <td>4.019937</td>\n",
              "      <td>-3.476262</td>\n",
              "      <td>-8.089017</td>\n",
              "      <td>4.816000</td>\n",
              "      <td>-7.782876</td>\n",
              "      <td>0.066769</td>\n",
              "      <td>-5.253045</td>\n",
              "      <td>-11.503350</td>\n",
              "      <td>-4.184236</td>\n",
              "      <td>-6.538235</td>\n",
              "      <td>-7.305887</td>\n",
              "      <td>4.309880</td>\n",
              "    </tr>\n",
              "  </tbody>\n",
              "</table>\n",
              "<p>568630 rows × 14 columns</p>\n",
              "</div>"
            ],
            "text/plain": [
              "               V7        V14        V2        V9        V12        V4  \\\n",
              "0        0.239599  -0.311169 -0.072781  0.363787  -0.617801  1.378155   \n",
              "1       -0.078803  -0.143772  0.266151 -0.255425   1.065235  0.448154   \n",
              "2        0.791461  -0.165946 -1.340163 -1.514654   0.066084  0.379780   \n",
              "3        0.237609  -0.287924 -0.185226 -1.387024   0.178228 -0.863291   \n",
              "4        0.592941  -1.119670  0.877737  0.817739   0.538196  0.403034   \n",
              "...           ...        ...       ...       ...        ...       ...   \n",
              "568625  -1.388311  -5.372057  2.610742 -2.709672  -2.832774  5.307966   \n",
              "568626  -9.869908  -6.883882  3.156097 -3.867216  -7.056479  5.023684   \n",
              "568627  -3.733022  -7.423231  1.650258 -2.898127  -4.943861  4.383815   \n",
              "568628 -12.345563 -14.629153  5.267711 -6.234464 -13.402615  7.728912   \n",
              "568629  -7.167808  -8.703154  4.019937 -3.476262  -8.089017  4.816000   \n",
              "\n",
              "              V16       V22       V18        V17        V5         V3  \\\n",
              "0       -0.470401  0.277838  0.025791   0.207971 -0.338321   2.536347   \n",
              "1        0.463917 -0.638672 -0.183361  -0.114805  0.060018   0.166480   \n",
              "2       -2.890083  0.771679 -0.121359   1.109969 -0.503198   1.773209   \n",
              "3       -1.059647  0.005274  1.965775  -0.684093 -0.010309   1.792993   \n",
              "4       -0.451449  0.798278 -0.038195  -0.237033 -0.407193   1.548718   \n",
              "...           ...       ...       ...        ...       ...        ...   \n",
              "568625  -0.730311 -0.121587  0.599473   0.709593  1.130779  -3.207583   \n",
              "568626  -6.681150  1.253258 -4.034154 -11.384292 -4.129239  -7.383136   \n",
              "568627  -3.003840  0.167449 -1.632431  -7.099265 -0.442760  -4.441795   \n",
              "568628 -11.720289  0.144527 -7.756639 -21.043556 -7.962640 -11.528198   \n",
              "568629  -7.782876  0.066769 -5.253045 -11.503350 -4.184236  -6.538235   \n",
              "\n",
              "              V10       V11  \n",
              "0        0.090794 -0.551600  \n",
              "1       -0.166974  1.612727  \n",
              "2        0.207643  0.624501  \n",
              "3       -0.054952 -0.226487  \n",
              "4        0.753074 -0.822843  \n",
              "...           ...       ...  \n",
              "568625  -1.949727  0.801464  \n",
              "568626  -7.613315  5.172280  \n",
              "568627  -4.907986  3.467059  \n",
              "568628 -12.587549  7.384305  \n",
              "568629  -7.305887  4.309880  \n",
              "\n",
              "[568630 rows x 14 columns]"
            ]
          },
          "execution_count": 16,
          "metadata": {},
          "output_type": "execute_result"
        }
      ],
      "source": [
        "X_os = X_os[list(correlated_features)]\n",
        "X_os"
      ]
    },
    {
      "cell_type": "code",
      "execution_count": 17,
      "metadata": {
        "id": "03WWkK715iC6"
      },
      "outputs": [],
      "source": [
        "X_os = pd.DataFrame(MinMaxScaler().fit_transform(X_os), columns = X_os.columns, index = X_os.index)"
      ]
    },
    {
      "cell_type": "code",
      "execution_count": 18,
      "metadata": {
        "id": "dirQOdiL5iC6"
      },
      "outputs": [],
      "source": [
        "X_train, X_test, y_train, y_test = train_test_split(X, y, test_size = 0.35, random_state = 123)"
      ]
    },
    {
      "attachments": {},
      "cell_type": "markdown",
      "metadata": {
        "id": "bXXFfASM7uoC"
      },
      "source": [
        "Логистическая регрессия, случайный лес, дерево решений"
      ]
    },
    {
      "attachments": {},
      "cell_type": "markdown",
      "metadata": {
        "id": "X8dbOlRmBD0o"
      },
      "source": [
        "Логистическая регрессия"
      ]
    },
    {
      "cell_type": "code",
      "execution_count": 19,
      "metadata": {
        "colab": {
          "base_uri": "https://localhost:8080/"
        },
        "id": "ZBbQ0df074LN",
        "outputId": "03b3c288-1f57-4f3a-a6de-145312699416"
      },
      "outputs": [
        {
          "name": "stderr",
          "output_type": "stream",
          "text": [
            "/home/egor/anaconda3/lib/python3.10/site-packages/sklearn/linear_model/_logistic.py:458: ConvergenceWarning: lbfgs failed to converge (status=1):\n",
            "STOP: TOTAL NO. of ITERATIONS REACHED LIMIT.\n",
            "\n",
            "Increase the number of iterations (max_iter) or scale the data as shown in:\n",
            "    https://scikit-learn.org/stable/modules/preprocessing.html\n",
            "Please also refer to the documentation for alternative solver options:\n",
            "    https://scikit-learn.org/stable/modules/linear_model.html#logistic-regression\n",
            "  n_iter_i = _check_optimize_result(\n"
          ]
        }
      ],
      "source": [
        "model_0 = LogisticRegression()\n",
        "model_0.fit(X_train, y_train)\n",
        "pred_0 = model_0.predict(X_test)"
      ]
    },
    {
      "cell_type": "code",
      "execution_count": 20,
      "metadata": {
        "colab": {
          "base_uri": "https://localhost:8080/"
        },
        "id": "j8YjVFsK-GhQ",
        "outputId": "1838fb31-1566-4e1e-bfca-10cab55a7faf"
      },
      "outputs": [
        {
          "name": "stdout",
          "output_type": "stream",
          "text": [
            "0.998966724516718\n",
            "0.7359550561797753\n",
            "0.7005347593582888\n"
          ]
        }
      ],
      "source": [
        "print(accuracy_score(pred_0, y_test))\n",
        "print(recall_score(pred_0, y_test))\n",
        "print(precision_score(pred_0, y_test))"
      ]
    },
    {
      "cell_type": "code",
      "execution_count": null,
      "metadata": {},
      "outputs": [],
      "source": []
    },
    {
      "attachments": {},
      "cell_type": "markdown",
      "metadata": {
        "id": "R7eYycRAA-8B"
      },
      "source": [
        "Дерево решений"
      ]
    },
    {
      "cell_type": "code",
      "execution_count": 21,
      "metadata": {
        "id": "AUx7Ykl1AERv"
      },
      "outputs": [],
      "source": [
        "model_1 = DecisionTreeClassifier()\n",
        "model_1.fit(X_train, y_train)\n",
        "pred_1 = model_1.predict(X_test)"
      ]
    },
    {
      "cell_type": "code",
      "execution_count": 22,
      "metadata": {
        "colab": {
          "base_uri": "https://localhost:8080/"
        },
        "id": "kxDc_F9CAV5X",
        "outputId": "5a28353e-81d3-4b42-8bce-84d8a4852ff9"
      },
      "outputs": [
        {
          "name": "stdout",
          "output_type": "stream",
          "text": [
            "0.9991874241345063\n",
            "0.7819148936170213\n",
            "0.786096256684492\n"
          ]
        }
      ],
      "source": [
        "print(accuracy_score(pred_1, y_test))\n",
        "print(recall_score(pred_1, y_test))\n",
        "print(precision_score(pred_1, y_test))"
      ]
    },
    {
      "attachments": {},
      "cell_type": "markdown",
      "metadata": {
        "id": "rRTEY81sBFRs"
      },
      "source": [
        "Случайный лес"
      ]
    },
    {
      "cell_type": "code",
      "execution_count": 23,
      "metadata": {
        "id": "d8OTwVVqBKH2"
      },
      "outputs": [],
      "source": [
        "param_grid = {'n_estimators' : range(10, 51, 10),\n",
        "              'max_depth' : range(1, 13, 2),\n",
        "              'min_samples_leaf' : range(1, 8),\n",
        "              'min_samples_split': range(2, 10, 2)}"
      ]
    },
    {
      "cell_type": "code",
      "execution_count": null,
      "metadata": {
        "colab": {
          "base_uri": "https://localhost:8080/",
          "height": 345
        },
        "id": "eBSoqoNsBnjr",
        "outputId": "799b17ed-088c-42e1-bd07-009f6a20ba19"
      },
      "outputs": [],
      "source": [
        "clf = RandomForestClassifier(random_state = 42)\n",
        "grid = GridSearchCV(clf, param_grid, cv=5)\n",
        "grid.fit(X_train, y_train)"
      ]
    },
    {
      "cell_type": "code",
      "execution_count": null,
      "metadata": {},
      "outputs": [
        {
          "data": {
            "text/plain": [
              "{'max_depth': 11,\n",
              " 'min_samples_leaf': 1,\n",
              " 'min_samples_split': 2,\n",
              " 'n_estimators': 10}"
            ]
          },
          "execution_count": 30,
          "metadata": {},
          "output_type": "execute_result"
        }
      ],
      "source": [
        "grid.best_params_"
      ]
    },
    {
      "cell_type": "code",
      "execution_count": null,
      "metadata": {
        "id": "SZNI__AQdHZA"
      },
      "outputs": [],
      "source": [
        "pred_2 = grid.predict(X_test)"
      ]
    },
    {
      "cell_type": "code",
      "execution_count": null,
      "metadata": {},
      "outputs": [
        {
          "name": "stdout",
          "output_type": "stream",
          "text": [
            "0.9994883781587632\n",
            "0.9473684210526315\n",
            "0.7700534759358288\n"
          ]
        }
      ],
      "source": [
        "print(accuracy_score(pred_2, y_test))\n",
        "print(recall_score(pred_2, y_test))\n",
        "print(precision_score(pred_2, y_test))"
      ]
    },
    {
      "cell_type": "code",
      "execution_count": 26,
      "metadata": {},
      "outputs": [
        {
          "name": "stdout",
          "output_type": "stream",
          "text": [
            "0:\tlearn: 0.3611301\ttotal: 54.5ms\tremaining: 5.4s\n",
            "1:\tlearn: 0.2225939\ttotal: 65.2ms\tremaining: 3.19s\n",
            "2:\tlearn: 0.1246825\ttotal: 73.4ms\tremaining: 2.37s\n",
            "3:\tlearn: 0.0700771\ttotal: 81.5ms\tremaining: 1.96s\n",
            "4:\tlearn: 0.0426119\ttotal: 89.6ms\tremaining: 1.7s\n",
            "5:\tlearn: 0.0270945\ttotal: 97.6ms\tremaining: 1.53s\n",
            "6:\tlearn: 0.0182988\ttotal: 105ms\tremaining: 1.4s\n",
            "7:\tlearn: 0.0130823\ttotal: 113ms\tremaining: 1.3s\n",
            "8:\tlearn: 0.0098661\ttotal: 122ms\tremaining: 1.24s\n",
            "9:\tlearn: 0.0078737\ttotal: 131ms\tremaining: 1.18s\n",
            "10:\tlearn: 0.0065586\ttotal: 140ms\tremaining: 1.13s\n",
            "11:\tlearn: 0.0056685\ttotal: 151ms\tremaining: 1.11s\n",
            "12:\tlearn: 0.0050880\ttotal: 158ms\tremaining: 1.06s\n",
            "13:\tlearn: 0.0045397\ttotal: 167ms\tremaining: 1.02s\n",
            "14:\tlearn: 0.0042080\ttotal: 175ms\tremaining: 993ms\n",
            "15:\tlearn: 0.0039652\ttotal: 183ms\tremaining: 962ms\n",
            "16:\tlearn: 0.0037375\ttotal: 190ms\tremaining: 930ms\n",
            "17:\tlearn: 0.0036032\ttotal: 199ms\tremaining: 906ms\n",
            "18:\tlearn: 0.0035024\ttotal: 206ms\tremaining: 879ms\n",
            "19:\tlearn: 0.0034300\ttotal: 218ms\tremaining: 870ms\n",
            "20:\tlearn: 0.0033585\ttotal: 226ms\tremaining: 849ms\n",
            "21:\tlearn: 0.0033050\ttotal: 237ms\tremaining: 841ms\n",
            "22:\tlearn: 0.0032253\ttotal: 246ms\tremaining: 822ms\n",
            "23:\tlearn: 0.0031614\ttotal: 253ms\tremaining: 802ms\n",
            "24:\tlearn: 0.0031244\ttotal: 262ms\tremaining: 785ms\n",
            "25:\tlearn: 0.0030991\ttotal: 273ms\tremaining: 778ms\n",
            "26:\tlearn: 0.0030717\ttotal: 282ms\tremaining: 762ms\n",
            "27:\tlearn: 0.0030554\ttotal: 294ms\tremaining: 756ms\n",
            "28:\tlearn: 0.0030272\ttotal: 303ms\tremaining: 741ms\n",
            "29:\tlearn: 0.0029839\ttotal: 320ms\tremaining: 746ms\n",
            "30:\tlearn: 0.0029548\ttotal: 334ms\tremaining: 744ms\n",
            "31:\tlearn: 0.0029371\ttotal: 344ms\tremaining: 730ms\n",
            "32:\tlearn: 0.0029022\ttotal: 354ms\tremaining: 720ms\n",
            "33:\tlearn: 0.0028880\ttotal: 366ms\tremaining: 711ms\n",
            "34:\tlearn: 0.0028711\ttotal: 375ms\tremaining: 696ms\n",
            "35:\tlearn: 0.0028560\ttotal: 388ms\tremaining: 689ms\n",
            "36:\tlearn: 0.0028514\ttotal: 398ms\tremaining: 677ms\n",
            "37:\tlearn: 0.0028288\ttotal: 406ms\tremaining: 663ms\n",
            "38:\tlearn: 0.0028160\ttotal: 414ms\tremaining: 647ms\n",
            "39:\tlearn: 0.0028115\ttotal: 422ms\tremaining: 633ms\n",
            "40:\tlearn: 0.0027918\ttotal: 431ms\tremaining: 621ms\n",
            "41:\tlearn: 0.0027839\ttotal: 440ms\tremaining: 608ms\n",
            "42:\tlearn: 0.0027687\ttotal: 451ms\tremaining: 597ms\n",
            "43:\tlearn: 0.0027612\ttotal: 462ms\tremaining: 587ms\n",
            "44:\tlearn: 0.0027571\ttotal: 471ms\tremaining: 575ms\n",
            "45:\tlearn: 0.0027515\ttotal: 479ms\tremaining: 563ms\n",
            "46:\tlearn: 0.0027415\ttotal: 489ms\tremaining: 551ms\n",
            "47:\tlearn: 0.0027312\ttotal: 499ms\tremaining: 541ms\n",
            "48:\tlearn: 0.0027223\ttotal: 509ms\tremaining: 530ms\n",
            "49:\tlearn: 0.0027128\ttotal: 518ms\tremaining: 518ms\n",
            "50:\tlearn: 0.0027075\ttotal: 527ms\tremaining: 506ms\n",
            "51:\tlearn: 0.0027032\ttotal: 536ms\tremaining: 495ms\n",
            "52:\tlearn: 0.0026932\ttotal: 544ms\tremaining: 483ms\n",
            "53:\tlearn: 0.0026851\ttotal: 555ms\tremaining: 473ms\n",
            "54:\tlearn: 0.0026756\ttotal: 563ms\tremaining: 461ms\n",
            "55:\tlearn: 0.0026677\ttotal: 575ms\tremaining: 452ms\n",
            "56:\tlearn: 0.0026632\ttotal: 583ms\tremaining: 440ms\n",
            "57:\tlearn: 0.0026566\ttotal: 591ms\tremaining: 428ms\n",
            "58:\tlearn: 0.0026537\ttotal: 600ms\tremaining: 417ms\n",
            "59:\tlearn: 0.0026448\ttotal: 608ms\tremaining: 406ms\n",
            "60:\tlearn: 0.0026430\ttotal: 617ms\tremaining: 394ms\n",
            "61:\tlearn: 0.0026328\ttotal: 628ms\tremaining: 385ms\n",
            "62:\tlearn: 0.0026233\ttotal: 637ms\tremaining: 374ms\n",
            "63:\tlearn: 0.0026197\ttotal: 646ms\tremaining: 363ms\n",
            "64:\tlearn: 0.0026173\ttotal: 653ms\tremaining: 351ms\n",
            "65:\tlearn: 0.0026057\ttotal: 664ms\tremaining: 342ms\n",
            "66:\tlearn: 0.0026012\ttotal: 674ms\tremaining: 332ms\n",
            "67:\tlearn: 0.0025951\ttotal: 686ms\tremaining: 323ms\n",
            "68:\tlearn: 0.0025868\ttotal: 696ms\tremaining: 313ms\n",
            "69:\tlearn: 0.0025775\ttotal: 705ms\tremaining: 302ms\n",
            "70:\tlearn: 0.0025732\ttotal: 715ms\tremaining: 292ms\n",
            "71:\tlearn: 0.0025677\ttotal: 726ms\tremaining: 282ms\n",
            "72:\tlearn: 0.0025620\ttotal: 734ms\tremaining: 271ms\n",
            "73:\tlearn: 0.0025541\ttotal: 743ms\tremaining: 261ms\n",
            "74:\tlearn: 0.0025474\ttotal: 753ms\tremaining: 251ms\n",
            "75:\tlearn: 0.0025452\ttotal: 761ms\tremaining: 240ms\n",
            "76:\tlearn: 0.0025388\ttotal: 773ms\tremaining: 231ms\n",
            "77:\tlearn: 0.0025368\ttotal: 781ms\tremaining: 220ms\n",
            "78:\tlearn: 0.0025341\ttotal: 791ms\tremaining: 210ms\n",
            "79:\tlearn: 0.0025257\ttotal: 800ms\tremaining: 200ms\n",
            "80:\tlearn: 0.0025212\ttotal: 810ms\tremaining: 190ms\n",
            "81:\tlearn: 0.0025111\ttotal: 821ms\tremaining: 180ms\n",
            "82:\tlearn: 0.0025051\ttotal: 831ms\tremaining: 170ms\n",
            "83:\tlearn: 0.0025017\ttotal: 841ms\tremaining: 160ms\n",
            "84:\tlearn: 0.0024945\ttotal: 850ms\tremaining: 150ms\n",
            "85:\tlearn: 0.0024893\ttotal: 863ms\tremaining: 141ms\n",
            "86:\tlearn: 0.0024831\ttotal: 880ms\tremaining: 132ms\n",
            "87:\tlearn: 0.0024778\ttotal: 894ms\tremaining: 122ms\n",
            "88:\tlearn: 0.0024747\ttotal: 907ms\tremaining: 112ms\n",
            "89:\tlearn: 0.0024725\ttotal: 918ms\tremaining: 102ms\n",
            "90:\tlearn: 0.0024666\ttotal: 927ms\tremaining: 91.7ms\n",
            "91:\tlearn: 0.0024611\ttotal: 936ms\tremaining: 81.4ms\n",
            "92:\tlearn: 0.0024566\ttotal: 946ms\tremaining: 71.2ms\n",
            "93:\tlearn: 0.0024532\ttotal: 955ms\tremaining: 61ms\n",
            "94:\tlearn: 0.0024495\ttotal: 964ms\tremaining: 50.8ms\n",
            "95:\tlearn: 0.0024403\ttotal: 973ms\tremaining: 40.5ms\n",
            "96:\tlearn: 0.0024358\ttotal: 983ms\tremaining: 30.4ms\n",
            "97:\tlearn: 0.0024272\ttotal: 992ms\tremaining: 20.3ms\n",
            "98:\tlearn: 0.0024237\ttotal: 1000ms\tremaining: 10.1ms\n",
            "99:\tlearn: 0.0024188\ttotal: 1.01s\tremaining: 0us\n"
          ]
        },
        {
          "data": {
            "text/plain": [
              "<catboost.core.CatBoostClassifier at 0x7f43e046c700>"
            ]
          },
          "execution_count": 26,
          "metadata": {},
          "output_type": "execute_result"
        }
      ],
      "source": [
        "model_3 = CatBoostClassifier(iterations=100, learning_rate=0.1, depth=3)\n",
        "model_3.fit(X_train, y_train)"
      ]
    },
    {
      "cell_type": "code",
      "execution_count": 27,
      "metadata": {},
      "outputs": [],
      "source": [
        "pred_3 = model_3.predict(X_test)"
      ]
    },
    {
      "cell_type": "code",
      "execution_count": 28,
      "metadata": {},
      "outputs": [
        {
          "name": "stdout",
          "output_type": "stream",
          "text": [
            "0.9995686325652318\n",
            "0.9615384615384616\n",
            "0.8021390374331551\n"
          ]
        }
      ],
      "source": [
        "print(accuracy_score(pred_3, y_test))\n",
        "print(recall_score(pred_3, y_test))\n",
        "print(precision_score(pred_3, y_test))"
      ]
    }
  ],
  "metadata": {
    "colab": {
      "provenance": []
    },
    "kernelspec": {
      "display_name": "Python 3",
      "name": "python3"
    },
    "language_info": {
      "codemirror_mode": {
        "name": "ipython",
        "version": 3
      },
      "file_extension": ".py",
      "mimetype": "text/x-python",
      "name": "python",
      "nbconvert_exporter": "python",
      "pygments_lexer": "ipython3",
      "version": "3.10.9"
    }
  },
  "nbformat": 4,
  "nbformat_minor": 0
}
