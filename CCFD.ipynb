{
  "nbformat": 4,
  "nbformat_minor": 0,
  "metadata": {
    "colab": {
      "provenance": []
    },
    "kernelspec": {
      "name": "python3",
      "display_name": "Python 3"
    },
    "language_info": {
      "name": "python"
    }
  },
  "cells": [
    {
      "cell_type": "code",
      "execution_count": null,
      "metadata": {
        "id": "j5aKWGp6gmIK"
      },
      "outputs": [],
      "source": [
        "import pandas as pd\n",
        "import matplotlib.pyplot as plt\n",
        "import seaborn as sns\n",
        "\n",
        "from google.colab import files\n",
        "from google.colab import drive"
      ]
    },
    {
      "cell_type": "code",
      "source": [
        "drive.mount('/content/drive')"
      ],
      "metadata": {
        "id": "lg1_vgl2eIvh",
        "colab": {
          "base_uri": "https://localhost:8080/"
        },
        "outputId": "cfa9f157-c04c-452a-ec31-a10c35bfbf50"
      },
      "execution_count": 3,
      "outputs": [
        {
          "output_type": "stream",
          "name": "stdout",
          "text": [
            "Mounted at /content/drive\n"
          ]
        }
      ]
    },
    {
      "cell_type": "code",
      "source": [
        "# файлы импортируются из гугл диска\n",
        "c = pd.read_csv('/content/drive/MyDrive/Colab Notebooks/files/creditcard.csv')"
      ],
      "metadata": {
        "id": "ykE9ZgdYjcG-"
      },
      "execution_count": 4,
      "outputs": []
    },
    {
      "cell_type": "code",
      "source": [
        "# или с компьютера\n",
        "c = pd.read_csv('creditcard.csv')"
      ],
      "metadata": {
        "id": "DrRdmx3dls_A"
      },
      "execution_count": 9,
      "outputs": []
    },
    {
      "cell_type": "code",
      "source": [
        "c.head(10)"
      ],
      "metadata": {
        "id": "lywaFrlxjjyW"
      },
      "execution_count": null,
      "outputs": []
    },
    {
      "cell_type": "code",
      "source": [
        "c.info()"
      ],
      "metadata": {
        "id": "h9tp0_EDsckf"
      },
      "execution_count": null,
      "outputs": []
    },
    {
      "cell_type": "code",
      "source": [
        "print(c.isna().sum())"
      ],
      "metadata": {
        "id": "OBt8-Ee1sygy"
      },
      "execution_count": null,
      "outputs": []
    },
    {
      "cell_type": "markdown",
      "source": [
        "В датасете нет пропусков; один столбец содержит данные типа int (в данном случае они принимают значения 0 или 1), остальные столбцы содержат данные типа float"
      ],
      "metadata": {
        "id": "c8zk3Z1ZkN4v"
      }
    }
  ]
}