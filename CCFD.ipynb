{
  "cells": [
    {
      "attachments": {},
      "cell_type": "markdown",
      "metadata": {},
      "source": [
        "# Импорт необходимых библиотек"
      ]
    },
    {
      "cell_type": "code",
      "execution_count": 3,
      "metadata": {
        "id": "j5aKWGp6gmIK"
      },
      "outputs": [],
      "source": [
        "import pandas as pd\n",
        "import matplotlib.pyplot as plt\n",
        "import seaborn as sns\n",
        "\n",
        "from sklearn.preprocessing import MinMaxScaler\n",
        "from sklearn.model_selection import train_test_split\n",
        "\n",
        "from sklearn.linear_model import LogisticRegression\n",
        "from sklearn.tree import DecisionTreeClassifier\n",
        "from sklearn.ensemble import RandomForestClassifier\n",
        "from sklearn.model_selection import GridSearchCV\n",
        "\n",
        "from sklearn.metrics import accuracy_score, recall_score, precision_score"
      ]
    },
    {
      "cell_type": "code",
      "execution_count": 4,
      "metadata": {
        "colab": {
          "base_uri": "https://localhost:8080/"
        },
        "id": "N56DqAvW5iC2",
        "outputId": "611618a2-f9dc-438a-8949-57c5ad8db82b"
      },
      "outputs": [
        {
          "name": "stdout",
          "output_type": "stream",
          "text": [
            "Requirement already satisfied: imbalanced-learn in /home/egor/anaconda3/lib/python3.10/site-packages (0.10.1)\n",
            "Requirement already satisfied: scipy>=1.3.2 in /home/egor/anaconda3/lib/python3.10/site-packages (from imbalanced-learn) (1.10.0)\n",
            "Requirement already satisfied: joblib>=1.1.1 in /home/egor/anaconda3/lib/python3.10/site-packages (from imbalanced-learn) (1.1.1)\n",
            "Requirement already satisfied: threadpoolctl>=2.0.0 in /home/egor/anaconda3/lib/python3.10/site-packages (from imbalanced-learn) (2.2.0)\n",
            "Requirement already satisfied: numpy>=1.17.3 in /home/egor/anaconda3/lib/python3.10/site-packages (from imbalanced-learn) (1.23.5)\n",
            "Requirement already satisfied: scikit-learn>=1.0.2 in /home/egor/anaconda3/lib/python3.10/site-packages (from imbalanced-learn) (1.2.1)\n"
          ]
        }
      ],
      "source": [
        "!pip install imbalanced-learn\n",
        "from imblearn.over_sampling import SMOTE"
      ]
    },
    {
      "cell_type": "code",
      "execution_count": 5,
      "metadata": {},
      "outputs": [
        {
          "name": "stdout",
          "output_type": "stream",
          "text": [
            "Requirement already satisfied: catboost in /home/egor/anaconda3/lib/python3.10/site-packages (1.2)\n",
            "Requirement already satisfied: plotly in /home/egor/anaconda3/lib/python3.10/site-packages (from catboost) (5.9.0)\n",
            "Requirement already satisfied: scipy in /home/egor/anaconda3/lib/python3.10/site-packages (from catboost) (1.10.0)\n",
            "Requirement already satisfied: pandas>=0.24 in /home/egor/anaconda3/lib/python3.10/site-packages (from catboost) (1.5.3)\n",
            "Requirement already satisfied: graphviz in /home/egor/anaconda3/lib/python3.10/site-packages (from catboost) (0.20.1)\n",
            "Requirement already satisfied: numpy>=1.16.0 in /home/egor/anaconda3/lib/python3.10/site-packages (from catboost) (1.23.5)\n",
            "Requirement already satisfied: six in /home/egor/anaconda3/lib/python3.10/site-packages (from catboost) (1.16.0)\n",
            "Requirement already satisfied: matplotlib in /home/egor/anaconda3/lib/python3.10/site-packages (from catboost) (3.7.0)\n",
            "Requirement already satisfied: python-dateutil>=2.8.1 in /home/egor/anaconda3/lib/python3.10/site-packages (from pandas>=0.24->catboost) (2.8.2)\n",
            "Requirement already satisfied: pytz>=2020.1 in /home/egor/anaconda3/lib/python3.10/site-packages (from pandas>=0.24->catboost) (2022.7)\n",
            "Requirement already satisfied: contourpy>=1.0.1 in /home/egor/anaconda3/lib/python3.10/site-packages (from matplotlib->catboost) (1.0.5)\n",
            "Requirement already satisfied: cycler>=0.10 in /home/egor/anaconda3/lib/python3.10/site-packages (from matplotlib->catboost) (0.11.0)\n",
            "Requirement already satisfied: packaging>=20.0 in /home/egor/anaconda3/lib/python3.10/site-packages (from matplotlib->catboost) (22.0)\n",
            "Requirement already satisfied: fonttools>=4.22.0 in /home/egor/anaconda3/lib/python3.10/site-packages (from matplotlib->catboost) (4.25.0)\n",
            "Requirement already satisfied: pillow>=6.2.0 in /home/egor/anaconda3/lib/python3.10/site-packages (from matplotlib->catboost) (9.4.0)\n",
            "Requirement already satisfied: kiwisolver>=1.0.1 in /home/egor/anaconda3/lib/python3.10/site-packages (from matplotlib->catboost) (1.4.4)\n",
            "Requirement already satisfied: pyparsing>=2.3.1 in /home/egor/anaconda3/lib/python3.10/site-packages (from matplotlib->catboost) (3.0.9)\n",
            "Requirement already satisfied: tenacity>=6.2.0 in /home/egor/anaconda3/lib/python3.10/site-packages (from plotly->catboost) (8.0.1)\n"
          ]
        }
      ],
      "source": [
        "!pip install catboost\n",
        "from catboost import CatBoostClassifier"
      ]
    },
    {
      "attachments": {},
      "cell_type": "markdown",
      "metadata": {},
      "source": [
        "# Анализ данных"
      ]
    },
    {
      "cell_type": "code",
      "execution_count": 8,
      "metadata": {
        "id": "DrRdmx3dls_A"
      },
      "outputs": [],
      "source": [
        "# файлы импортируются с компьютера\n",
        "creditcard = pd.read_csv('creditcard.csv')"
      ]
    },
    {
      "cell_type": "code",
      "execution_count": 9,
      "metadata": {
        "colab": {
          "base_uri": "https://localhost:8080/",
          "height": 392
        },
        "id": "lywaFrlxjjyW",
        "outputId": "06be418a-6647-4c49-f922-83f2ccf7d945"
      },
      "outputs": [
        {
          "data": {
            "text/html": [
              "<div>\n",
              "<style scoped>\n",
              "    .dataframe tbody tr th:only-of-type {\n",
              "        vertical-align: middle;\n",
              "    }\n",
              "\n",
              "    .dataframe tbody tr th {\n",
              "        vertical-align: top;\n",
              "    }\n",
              "\n",
              "    .dataframe thead th {\n",
              "        text-align: right;\n",
              "    }\n",
              "</style>\n",
              "<table border=\"1\" class=\"dataframe\">\n",
              "  <thead>\n",
              "    <tr style=\"text-align: right;\">\n",
              "      <th></th>\n",
              "      <th>Time</th>\n",
              "      <th>V1</th>\n",
              "      <th>V2</th>\n",
              "      <th>V3</th>\n",
              "      <th>V4</th>\n",
              "      <th>V5</th>\n",
              "      <th>V6</th>\n",
              "      <th>V7</th>\n",
              "      <th>V8</th>\n",
              "      <th>V9</th>\n",
              "      <th>...</th>\n",
              "      <th>V21</th>\n",
              "      <th>V22</th>\n",
              "      <th>V23</th>\n",
              "      <th>V24</th>\n",
              "      <th>V25</th>\n",
              "      <th>V26</th>\n",
              "      <th>V27</th>\n",
              "      <th>V28</th>\n",
              "      <th>Amount</th>\n",
              "      <th>Class</th>\n",
              "    </tr>\n",
              "  </thead>\n",
              "  <tbody>\n",
              "    <tr>\n",
              "      <th>0</th>\n",
              "      <td>0.0</td>\n",
              "      <td>-1.359807</td>\n",
              "      <td>-0.072781</td>\n",
              "      <td>2.536347</td>\n",
              "      <td>1.378155</td>\n",
              "      <td>-0.338321</td>\n",
              "      <td>0.462388</td>\n",
              "      <td>0.239599</td>\n",
              "      <td>0.098698</td>\n",
              "      <td>0.363787</td>\n",
              "      <td>...</td>\n",
              "      <td>-0.018307</td>\n",
              "      <td>0.277838</td>\n",
              "      <td>-0.110474</td>\n",
              "      <td>0.066928</td>\n",
              "      <td>0.128539</td>\n",
              "      <td>-0.189115</td>\n",
              "      <td>0.133558</td>\n",
              "      <td>-0.021053</td>\n",
              "      <td>149.62</td>\n",
              "      <td>0</td>\n",
              "    </tr>\n",
              "    <tr>\n",
              "      <th>1</th>\n",
              "      <td>0.0</td>\n",
              "      <td>1.191857</td>\n",
              "      <td>0.266151</td>\n",
              "      <td>0.166480</td>\n",
              "      <td>0.448154</td>\n",
              "      <td>0.060018</td>\n",
              "      <td>-0.082361</td>\n",
              "      <td>-0.078803</td>\n",
              "      <td>0.085102</td>\n",
              "      <td>-0.255425</td>\n",
              "      <td>...</td>\n",
              "      <td>-0.225775</td>\n",
              "      <td>-0.638672</td>\n",
              "      <td>0.101288</td>\n",
              "      <td>-0.339846</td>\n",
              "      <td>0.167170</td>\n",
              "      <td>0.125895</td>\n",
              "      <td>-0.008983</td>\n",
              "      <td>0.014724</td>\n",
              "      <td>2.69</td>\n",
              "      <td>0</td>\n",
              "    </tr>\n",
              "    <tr>\n",
              "      <th>2</th>\n",
              "      <td>1.0</td>\n",
              "      <td>-1.358354</td>\n",
              "      <td>-1.340163</td>\n",
              "      <td>1.773209</td>\n",
              "      <td>0.379780</td>\n",
              "      <td>-0.503198</td>\n",
              "      <td>1.800499</td>\n",
              "      <td>0.791461</td>\n",
              "      <td>0.247676</td>\n",
              "      <td>-1.514654</td>\n",
              "      <td>...</td>\n",
              "      <td>0.247998</td>\n",
              "      <td>0.771679</td>\n",
              "      <td>0.909412</td>\n",
              "      <td>-0.689281</td>\n",
              "      <td>-0.327642</td>\n",
              "      <td>-0.139097</td>\n",
              "      <td>-0.055353</td>\n",
              "      <td>-0.059752</td>\n",
              "      <td>378.66</td>\n",
              "      <td>0</td>\n",
              "    </tr>\n",
              "    <tr>\n",
              "      <th>3</th>\n",
              "      <td>1.0</td>\n",
              "      <td>-0.966272</td>\n",
              "      <td>-0.185226</td>\n",
              "      <td>1.792993</td>\n",
              "      <td>-0.863291</td>\n",
              "      <td>-0.010309</td>\n",
              "      <td>1.247203</td>\n",
              "      <td>0.237609</td>\n",
              "      <td>0.377436</td>\n",
              "      <td>-1.387024</td>\n",
              "      <td>...</td>\n",
              "      <td>-0.108300</td>\n",
              "      <td>0.005274</td>\n",
              "      <td>-0.190321</td>\n",
              "      <td>-1.175575</td>\n",
              "      <td>0.647376</td>\n",
              "      <td>-0.221929</td>\n",
              "      <td>0.062723</td>\n",
              "      <td>0.061458</td>\n",
              "      <td>123.50</td>\n",
              "      <td>0</td>\n",
              "    </tr>\n",
              "    <tr>\n",
              "      <th>4</th>\n",
              "      <td>2.0</td>\n",
              "      <td>-1.158233</td>\n",
              "      <td>0.877737</td>\n",
              "      <td>1.548718</td>\n",
              "      <td>0.403034</td>\n",
              "      <td>-0.407193</td>\n",
              "      <td>0.095921</td>\n",
              "      <td>0.592941</td>\n",
              "      <td>-0.270533</td>\n",
              "      <td>0.817739</td>\n",
              "      <td>...</td>\n",
              "      <td>-0.009431</td>\n",
              "      <td>0.798278</td>\n",
              "      <td>-0.137458</td>\n",
              "      <td>0.141267</td>\n",
              "      <td>-0.206010</td>\n",
              "      <td>0.502292</td>\n",
              "      <td>0.219422</td>\n",
              "      <td>0.215153</td>\n",
              "      <td>69.99</td>\n",
              "      <td>0</td>\n",
              "    </tr>\n",
              "  </tbody>\n",
              "</table>\n",
              "<p>5 rows × 31 columns</p>\n",
              "</div>"
            ],
            "text/plain": [
              "   Time        V1        V2        V3        V4        V5        V6        V7  \\\n",
              "0   0.0 -1.359807 -0.072781  2.536347  1.378155 -0.338321  0.462388  0.239599   \n",
              "1   0.0  1.191857  0.266151  0.166480  0.448154  0.060018 -0.082361 -0.078803   \n",
              "2   1.0 -1.358354 -1.340163  1.773209  0.379780 -0.503198  1.800499  0.791461   \n",
              "3   1.0 -0.966272 -0.185226  1.792993 -0.863291 -0.010309  1.247203  0.237609   \n",
              "4   2.0 -1.158233  0.877737  1.548718  0.403034 -0.407193  0.095921  0.592941   \n",
              "\n",
              "         V8        V9  ...       V21       V22       V23       V24       V25  \\\n",
              "0  0.098698  0.363787  ... -0.018307  0.277838 -0.110474  0.066928  0.128539   \n",
              "1  0.085102 -0.255425  ... -0.225775 -0.638672  0.101288 -0.339846  0.167170   \n",
              "2  0.247676 -1.514654  ...  0.247998  0.771679  0.909412 -0.689281 -0.327642   \n",
              "3  0.377436 -1.387024  ... -0.108300  0.005274 -0.190321 -1.175575  0.647376   \n",
              "4 -0.270533  0.817739  ... -0.009431  0.798278 -0.137458  0.141267 -0.206010   \n",
              "\n",
              "        V26       V27       V28  Amount  Class  \n",
              "0 -0.189115  0.133558 -0.021053  149.62      0  \n",
              "1  0.125895 -0.008983  0.014724    2.69      0  \n",
              "2 -0.139097 -0.055353 -0.059752  378.66      0  \n",
              "3 -0.221929  0.062723  0.061458  123.50      0  \n",
              "4  0.502292  0.219422  0.215153   69.99      0  \n",
              "\n",
              "[5 rows x 31 columns]"
            ]
          },
          "execution_count": 9,
          "metadata": {},
          "output_type": "execute_result"
        }
      ],
      "source": [
        "creditcard.head(5)"
      ]
    },
    {
      "cell_type": "code",
      "execution_count": 10,
      "metadata": {
        "colab": {
          "base_uri": "https://localhost:8080/"
        },
        "id": "h9tp0_EDsckf",
        "outputId": "60ed501b-e429-442d-d44d-ff3f9fb9646f"
      },
      "outputs": [
        {
          "name": "stdout",
          "output_type": "stream",
          "text": [
            "<class 'pandas.core.frame.DataFrame'>\n",
            "RangeIndex: 284807 entries, 0 to 284806\n",
            "Data columns (total 31 columns):\n",
            " #   Column  Non-Null Count   Dtype  \n",
            "---  ------  --------------   -----  \n",
            " 0   Time    284807 non-null  float64\n",
            " 1   V1      284807 non-null  float64\n",
            " 2   V2      284807 non-null  float64\n",
            " 3   V3      284807 non-null  float64\n",
            " 4   V4      284807 non-null  float64\n",
            " 5   V5      284807 non-null  float64\n",
            " 6   V6      284807 non-null  float64\n",
            " 7   V7      284807 non-null  float64\n",
            " 8   V8      284807 non-null  float64\n",
            " 9   V9      284807 non-null  float64\n",
            " 10  V10     284807 non-null  float64\n",
            " 11  V11     284807 non-null  float64\n",
            " 12  V12     284807 non-null  float64\n",
            " 13  V13     284807 non-null  float64\n",
            " 14  V14     284807 non-null  float64\n",
            " 15  V15     284807 non-null  float64\n",
            " 16  V16     284807 non-null  float64\n",
            " 17  V17     284807 non-null  float64\n",
            " 18  V18     284807 non-null  float64\n",
            " 19  V19     284807 non-null  float64\n",
            " 20  V20     284807 non-null  float64\n",
            " 21  V21     284807 non-null  float64\n",
            " 22  V22     284807 non-null  float64\n",
            " 23  V23     284807 non-null  float64\n",
            " 24  V24     284807 non-null  float64\n",
            " 25  V25     284807 non-null  float64\n",
            " 26  V26     284807 non-null  float64\n",
            " 27  V27     284807 non-null  float64\n",
            " 28  V28     284807 non-null  float64\n",
            " 29  Amount  284807 non-null  float64\n",
            " 30  Class   284807 non-null  int64  \n",
            "dtypes: float64(30), int64(1)\n",
            "memory usage: 67.4 MB\n"
          ]
        }
      ],
      "source": [
        "creditcard.info()"
      ]
    },
    {
      "cell_type": "code",
      "execution_count": 11,
      "metadata": {
        "colab": {
          "base_uri": "https://localhost:8080/"
        },
        "id": "UKqR5iLF5iC4",
        "outputId": "1dfdfed5-a6c1-4ec8-e6c0-20868ad2cd3f"
      },
      "outputs": [
        {
          "data": {
            "text/plain": [
              "(284807, 31)"
            ]
          },
          "execution_count": 11,
          "metadata": {},
          "output_type": "execute_result"
        }
      ],
      "source": [
        "creditcard.shape"
      ]
    },
    {
      "cell_type": "code",
      "execution_count": 12,
      "metadata": {},
      "outputs": [
        {
          "data": {
            "text/plain": [
              "0    284315\n",
              "1       492\n",
              "Name: Class, dtype: int64"
            ]
          },
          "execution_count": 12,
          "metadata": {},
          "output_type": "execute_result"
        }
      ],
      "source": [
        "creditcard['Class'].value_counts()"
      ]
    },
    {
      "cell_type": "code",
      "execution_count": 13,
      "metadata": {
        "colab": {
          "base_uri": "https://localhost:8080/"
        },
        "id": "OBt8-Ee1sygy",
        "outputId": "6ce5e6e6-6bf7-4125-f974-bf0f31665ad1"
      },
      "outputs": [
        {
          "data": {
            "text/plain": [
              "Time      0\n",
              "V1        0\n",
              "V2        0\n",
              "V3        0\n",
              "V4        0\n",
              "V5        0\n",
              "V6        0\n",
              "V7        0\n",
              "V8        0\n",
              "V9        0\n",
              "V10       0\n",
              "V11       0\n",
              "V12       0\n",
              "V13       0\n",
              "V14       0\n",
              "V15       0\n",
              "V16       0\n",
              "V17       0\n",
              "V18       0\n",
              "V19       0\n",
              "V20       0\n",
              "V21       0\n",
              "V22       0\n",
              "V23       0\n",
              "V24       0\n",
              "V25       0\n",
              "V26       0\n",
              "V27       0\n",
              "V28       0\n",
              "Amount    0\n",
              "Class     0\n",
              "dtype: int64"
            ]
          },
          "execution_count": 13,
          "metadata": {},
          "output_type": "execute_result"
        }
      ],
      "source": [
        "creditcard.isna().sum()"
      ]
    },
    {
      "cell_type": "code",
      "execution_count": 14,
      "metadata": {
        "colab": {
          "base_uri": "https://localhost:8080/",
          "height": 893
        },
        "id": "PCXNv_Kh5iC4",
        "outputId": "105a770e-b482-4ead-b051-a7fb4373e81e"
      },
      "outputs": [
        {
          "data": {
            "text/plain": [
              "<Axes: >"
            ]
          },
          "execution_count": 14,
          "metadata": {},
          "output_type": "execute_result"
        },
        {
          "data": {
            "image/png": "[encoded data removed]",
            "text/plain": [
              "<Figure size 1000x800 with 2 Axes>"
            ]
          },
          "metadata": {},
          "output_type": "display_data"
        }
      ],
      "source": [
        "plt.figure(figsize=(10,8))\n",
        "corr = creditcard.corr()\n",
        "sns.heatmap(corr, cmap = \"YlGnBu\")"
      ]
    },
    {
      "cell_type": "code",
      "execution_count": 15,
      "metadata": {
        "colab": {
          "base_uri": "https://localhost:8080/"
        },
        "id": "F5H4azC55iC5",
        "outputId": "4bfb0b9a-b59d-4c58-8480-d162fb03cf4b"
      },
      "outputs": [
        {
          "name": "stdout",
          "output_type": "stream",
          "text": [
            "27\n",
            "{'V5', 'V13', 'V14', 'V3', 'V19', 'V6', 'V2', 'V20', 'V23', 'V26', 'V10', 'V24', 'V8', 'V18', 'V22', 'Amount', 'V15', 'V21', 'Class', 'V4', 'V17', 'V1', 'V25', 'V11', 'V12', 'V7', 'V16'}\n"
          ]
        }
      ],
      "source": [
        "correlated_features = set()\n",
        "\n",
        "for i in range(len(corr.columns)):\n",
        "    for j in range(i):\n",
        "        if abs(corr.iloc[i, j]) > 0.01:\n",
        "            colname = corr.columns[i]\n",
        "            correlated_features.add(colname)\n",
        "\n",
        "print(len(correlated_features))\n",
        "print(correlated_features)"
      ]
    },
    {
      "attachments": {},
      "cell_type": "markdown",
      "metadata": {},
      "source": [
        "# Предобработка данных"
      ]
    },
    {
      "cell_type": "code",
      "execution_count": 16,
      "metadata": {
        "id": "WRWpepBO5iC5"
      },
      "outputs": [],
      "source": [
        "X = creditcard.drop(columns=['Class'])\n",
        "y = creditcard['Class']"
      ]
    },
    {
      "cell_type": "code",
      "execution_count": 17,
      "metadata": {
        "colab": {
          "base_uri": "https://localhost:8080/"
        },
        "id": "wdWjP5765iC5",
        "outputId": "ef838274-71a4-4fab-9a26-1226f8576403"
      },
      "outputs": [
        {
          "name": "stdout",
          "output_type": "stream",
          "text": [
            "(568630, 30) (568630, 1)\n"
          ]
        },
        {
          "data": {
            "text/plain": [
              "Class\n",
              "0        284315\n",
              "1        284315\n",
              "dtype: int64"
            ]
          },
          "execution_count": 17,
          "metadata": {},
          "output_type": "execute_result"
        }
      ],
      "source": [
        "os = SMOTE(random_state = 123, k_neighbors = 25)\n",
        "\n",
        "column = X.columns\n",
        "test = creditcard.columns\n",
        "\n",
        "X_os, y_os = os.fit_resample(X, y)\n",
        "X_os = pd.DataFrame(data = X_os, columns = column)\n",
        "y_os = pd.DataFrame(data = y_os, columns = ['Class'])\n",
        "\n",
        "creditcard_os = pd.DataFrame(data = X_os, columns = test)\n",
        "\n",
        "print(X_os.shape, y_os.shape)\n",
        "y_os.value_counts()"
      ]
    },
    {
      "cell_type": "code",
      "execution_count": 20,
      "metadata": {
        "colab": {
          "base_uri": "https://localhost:8080/",
          "height": 1000
        },
        "id": "wud_zv125iC5",
        "outputId": "16e139d2-5b62-4164-e0d3-6562b4a3e838"
      },
      "outputs": [
        {
          "data": {
            "text/plain": [
              "<Axes: >"
            ]
          },
          "execution_count": 20,
          "metadata": {},
          "output_type": "execute_result"
        },
        {
          "data": {
            "image/png": "[encoded data removed]",
            "text/plain": [
              "<Figure size 1000x800 with 2 Axes>"
            ]
          },
          "metadata": {},
          "output_type": "display_data"
        }
      ],
      "source": [
        "plt.figure(figsize=(10,8))\n",
        "corr = X_os.corr()\n",
        "sns.heatmap(corr, cmap = \"YlGnBu\")"
      ]
    },
    {
      "cell_type": "code",
      "execution_count": 18,
      "metadata": {
        "colab": {
          "base_uri": "https://localhost:8080/"
        },
        "id": "du8RYC0t5iC6",
        "outputId": "a202fd0b-9045-4b18-b983-3c1b7ef479b4"
      },
      "outputs": [
        {
          "name": "stdout",
          "output_type": "stream",
          "text": [
            "14\n",
            "{'V18', 'V7', 'V3', 'V12', 'V2', 'V10', 'V16', 'V17', 'V9', 'V5', 'V4', 'V11', 'V14', 'V22'}\n"
          ]
        }
      ],
      "source": [
        "correlated_features = set()\n",
        "\n",
        "for i in range(len(corr.columns)):\n",
        "    for j in range(i):\n",
        "        if abs(corr.iloc[i, j]) > 0.7:\n",
        "            colname = corr.columns[i]\n",
        "            correlated_features.add(colname)\n",
        "\n",
        "print(len(correlated_features))\n",
        "print(correlated_features)"
      ]
    },
    {
      "cell_type": "code",
      "execution_count": 19,
      "metadata": {
        "colab": {
          "base_uri": "https://localhost:8080/",
          "height": 424
        },
        "id": "mRk32i005iC6",
        "outputId": "b82d5882-bba5-4c0a-b024-9471182c6847"
      },
      "outputs": [
        {
          "data": {
            "text/html": [
              "<div>\n",
              "<style scoped>\n",
              "    .dataframe tbody tr th:only-of-type {\n",
              "        vertical-align: middle;\n",
              "    }\n",
              "\n",
              "    .dataframe tbody tr th {\n",
              "        vertical-align: top;\n",
              "    }\n",
              "\n",
              "    .dataframe thead th {\n",
              "        text-align: right;\n",
              "    }\n",
              "</style>\n",
              "<table border=\"1\" class=\"dataframe\">\n",
              "  <thead>\n",
              "    <tr style=\"text-align: right;\">\n",
              "      <th></th>\n",
              "      <th>V18</th>\n",
              "      <th>V7</th>\n",
              "      <th>V3</th>\n",
              "      <th>V12</th>\n",
              "      <th>V2</th>\n",
              "      <th>V10</th>\n",
              "      <th>V16</th>\n",
              "      <th>V17</th>\n",
              "      <th>V9</th>\n",
              "      <th>V5</th>\n",
              "      <th>V4</th>\n",
              "      <th>V11</th>\n",
              "      <th>V14</th>\n",
              "      <th>V22</th>\n",
              "    </tr>\n",
              "  </thead>\n",
              "  <tbody>\n",
              "    <tr>\n",
              "      <th>0</th>\n",
              "      <td>0.025791</td>\n",
              "      <td>0.239599</td>\n",
              "      <td>2.536347</td>\n",
              "      <td>-0.617801</td>\n",
              "      <td>-0.072781</td>\n",
              "      <td>0.090794</td>\n",
              "      <td>-0.470401</td>\n",
              "      <td>0.207971</td>\n",
              "      <td>0.363787</td>\n",
              "      <td>-0.338321</td>\n",
              "      <td>1.378155</td>\n",
              "      <td>-0.551600</td>\n",
              "      <td>-0.311169</td>\n",
              "      <td>0.277838</td>\n",
              "    </tr>\n",
              "    <tr>\n",
              "      <th>1</th>\n",
              "      <td>-0.183361</td>\n",
              "      <td>-0.078803</td>\n",
              "      <td>0.166480</td>\n",
              "      <td>1.065235</td>\n",
              "      <td>0.266151</td>\n",
              "      <td>-0.166974</td>\n",
              "      <td>0.463917</td>\n",
              "      <td>-0.114805</td>\n",
              "      <td>-0.255425</td>\n",
              "      <td>0.060018</td>\n",
              "      <td>0.448154</td>\n",
              "      <td>1.612727</td>\n",
              "      <td>-0.143772</td>\n",
              "      <td>-0.638672</td>\n",
              "    </tr>\n",
              "    <tr>\n",
              "      <th>2</th>\n",
              "      <td>-0.121359</td>\n",
              "      <td>0.791461</td>\n",
              "      <td>1.773209</td>\n",
              "      <td>0.066084</td>\n",
              "      <td>-1.340163</td>\n",
              "      <td>0.207643</td>\n",
              "      <td>-2.890083</td>\n",
              "      <td>1.109969</td>\n",
              "      <td>-1.514654</td>\n",
              "      <td>-0.503198</td>\n",
              "      <td>0.379780</td>\n",
              "      <td>0.624501</td>\n",
              "      <td>-0.165946</td>\n",
              "      <td>0.771679</td>\n",
              "    </tr>\n",
              "    <tr>\n",
              "      <th>3</th>\n",
              "      <td>1.965775</td>\n",
              "      <td>0.237609</td>\n",
              "      <td>1.792993</td>\n",
              "      <td>0.178228</td>\n",
              "      <td>-0.185226</td>\n",
              "      <td>-0.054952</td>\n",
              "      <td>-1.059647</td>\n",
              "      <td>-0.684093</td>\n",
              "      <td>-1.387024</td>\n",
              "      <td>-0.010309</td>\n",
              "      <td>-0.863291</td>\n",
              "      <td>-0.226487</td>\n",
              "      <td>-0.287924</td>\n",
              "      <td>0.005274</td>\n",
              "    </tr>\n",
              "    <tr>\n",
              "      <th>4</th>\n",
              "      <td>-0.038195</td>\n",
              "      <td>0.592941</td>\n",
              "      <td>1.548718</td>\n",
              "      <td>0.538196</td>\n",
              "      <td>0.877737</td>\n",
              "      <td>0.753074</td>\n",
              "      <td>-0.451449</td>\n",
              "      <td>-0.237033</td>\n",
              "      <td>0.817739</td>\n",
              "      <td>-0.407193</td>\n",
              "      <td>0.403034</td>\n",
              "      <td>-0.822843</td>\n",
              "      <td>-1.119670</td>\n",
              "      <td>0.798278</td>\n",
              "    </tr>\n",
              "    <tr>\n",
              "      <th>...</th>\n",
              "      <td>...</td>\n",
              "      <td>...</td>\n",
              "      <td>...</td>\n",
              "      <td>...</td>\n",
              "      <td>...</td>\n",
              "      <td>...</td>\n",
              "      <td>...</td>\n",
              "      <td>...</td>\n",
              "      <td>...</td>\n",
              "      <td>...</td>\n",
              "      <td>...</td>\n",
              "      <td>...</td>\n",
              "      <td>...</td>\n",
              "      <td>...</td>\n",
              "    </tr>\n",
              "    <tr>\n",
              "      <th>568625</th>\n",
              "      <td>0.599473</td>\n",
              "      <td>-1.388311</td>\n",
              "      <td>-3.207583</td>\n",
              "      <td>-2.832774</td>\n",
              "      <td>2.610742</td>\n",
              "      <td>-1.949727</td>\n",
              "      <td>-0.730311</td>\n",
              "      <td>0.709593</td>\n",
              "      <td>-2.709672</td>\n",
              "      <td>1.130779</td>\n",
              "      <td>5.307966</td>\n",
              "      <td>0.801464</td>\n",
              "      <td>-5.372057</td>\n",
              "      <td>-0.121587</td>\n",
              "    </tr>\n",
              "    <tr>\n",
              "      <th>568626</th>\n",
              "      <td>-4.034154</td>\n",
              "      <td>-9.869908</td>\n",
              "      <td>-7.383136</td>\n",
              "      <td>-7.056479</td>\n",
              "      <td>3.156097</td>\n",
              "      <td>-7.613315</td>\n",
              "      <td>-6.681150</td>\n",
              "      <td>-11.384292</td>\n",
              "      <td>-3.867216</td>\n",
              "      <td>-4.129239</td>\n",
              "      <td>5.023684</td>\n",
              "      <td>5.172280</td>\n",
              "      <td>-6.883882</td>\n",
              "      <td>1.253258</td>\n",
              "    </tr>\n",
              "    <tr>\n",
              "      <th>568627</th>\n",
              "      <td>-1.632431</td>\n",
              "      <td>-3.733022</td>\n",
              "      <td>-4.441795</td>\n",
              "      <td>-4.943861</td>\n",
              "      <td>1.650258</td>\n",
              "      <td>-4.907986</td>\n",
              "      <td>-3.003840</td>\n",
              "      <td>-7.099265</td>\n",
              "      <td>-2.898127</td>\n",
              "      <td>-0.442760</td>\n",
              "      <td>4.383815</td>\n",
              "      <td>3.467059</td>\n",
              "      <td>-7.423231</td>\n",
              "      <td>0.167449</td>\n",
              "    </tr>\n",
              "    <tr>\n",
              "      <th>568628</th>\n",
              "      <td>-7.756639</td>\n",
              "      <td>-12.345563</td>\n",
              "      <td>-11.528198</td>\n",
              "      <td>-13.402615</td>\n",
              "      <td>5.267711</td>\n",
              "      <td>-12.587549</td>\n",
              "      <td>-11.720289</td>\n",
              "      <td>-21.043556</td>\n",
              "      <td>-6.234464</td>\n",
              "      <td>-7.962640</td>\n",
              "      <td>7.728912</td>\n",
              "      <td>7.384305</td>\n",
              "      <td>-14.629153</td>\n",
              "      <td>0.144527</td>\n",
              "    </tr>\n",
              "    <tr>\n",
              "      <th>568629</th>\n",
              "      <td>-5.253045</td>\n",
              "      <td>-7.167808</td>\n",
              "      <td>-6.538235</td>\n",
              "      <td>-8.089017</td>\n",
              "      <td>4.019937</td>\n",
              "      <td>-7.305887</td>\n",
              "      <td>-7.782876</td>\n",
              "      <td>-11.503350</td>\n",
              "      <td>-3.476262</td>\n",
              "      <td>-4.184236</td>\n",
              "      <td>4.816000</td>\n",
              "      <td>4.309880</td>\n",
              "      <td>-8.703154</td>\n",
              "      <td>0.066769</td>\n",
              "    </tr>\n",
              "  </tbody>\n",
              "</table>\n",
              "<p>568630 rows × 14 columns</p>\n",
              "</div>"
            ],
            "text/plain": [
              "             V18         V7         V3        V12        V2        V10  \\\n",
              "0       0.025791   0.239599   2.536347  -0.617801 -0.072781   0.090794   \n",
              "1      -0.183361  -0.078803   0.166480   1.065235  0.266151  -0.166974   \n",
              "2      -0.121359   0.791461   1.773209   0.066084 -1.340163   0.207643   \n",
              "3       1.965775   0.237609   1.792993   0.178228 -0.185226  -0.054952   \n",
              "4      -0.038195   0.592941   1.548718   0.538196  0.877737   0.753074   \n",
              "...          ...        ...        ...        ...       ...        ...   \n",
              "568625  0.599473  -1.388311  -3.207583  -2.832774  2.610742  -1.949727   \n",
              "568626 -4.034154  -9.869908  -7.383136  -7.056479  3.156097  -7.613315   \n",
              "568627 -1.632431  -3.733022  -4.441795  -4.943861  1.650258  -4.907986   \n",
              "568628 -7.756639 -12.345563 -11.528198 -13.402615  5.267711 -12.587549   \n",
              "568629 -5.253045  -7.167808  -6.538235  -8.089017  4.019937  -7.305887   \n",
              "\n",
              "              V16        V17        V9        V5        V4       V11  \\\n",
              "0       -0.470401   0.207971  0.363787 -0.338321  1.378155 -0.551600   \n",
              "1        0.463917  -0.114805 -0.255425  0.060018  0.448154  1.612727   \n",
              "2       -2.890083   1.109969 -1.514654 -0.503198  0.379780  0.624501   \n",
              "3       -1.059647  -0.684093 -1.387024 -0.010309 -0.863291 -0.226487   \n",
              "4       -0.451449  -0.237033  0.817739 -0.407193  0.403034 -0.822843   \n",
              "...           ...        ...       ...       ...       ...       ...   \n",
              "568625  -0.730311   0.709593 -2.709672  1.130779  5.307966  0.801464   \n",
              "568626  -6.681150 -11.384292 -3.867216 -4.129239  5.023684  5.172280   \n",
              "568627  -3.003840  -7.099265 -2.898127 -0.442760  4.383815  3.467059   \n",
              "568628 -11.720289 -21.043556 -6.234464 -7.962640  7.728912  7.384305   \n",
              "568629  -7.782876 -11.503350 -3.476262 -4.184236  4.816000  4.309880   \n",
              "\n",
              "              V14       V22  \n",
              "0       -0.311169  0.277838  \n",
              "1       -0.143772 -0.638672  \n",
              "2       -0.165946  0.771679  \n",
              "3       -0.287924  0.005274  \n",
              "4       -1.119670  0.798278  \n",
              "...           ...       ...  \n",
              "568625  -5.372057 -0.121587  \n",
              "568626  -6.883882  1.253258  \n",
              "568627  -7.423231  0.167449  \n",
              "568628 -14.629153  0.144527  \n",
              "568629  -8.703154  0.066769  \n",
              "\n",
              "[568630 rows x 14 columns]"
            ]
          },
          "execution_count": 19,
          "metadata": {},
          "output_type": "execute_result"
        }
      ],
      "source": [
        "X_os = X_os[list(correlated_features)]\n",
        "X_os"
      ]
    },
    {
      "cell_type": "code",
      "execution_count": 20,
      "metadata": {},
      "outputs": [
        {
          "data": {
            "text/plain": [
              "<Axes: >"
            ]
          },
          "execution_count": 20,
          "metadata": {},
          "output_type": "execute_result"
        },
        {
          "data": {
            "image/png": "[encoded data removed]",
            "text/plain": [
              "<Figure size 640x480 with 2 Axes>"
            ]
          },
          "metadata": {},
          "output_type": "display_data"
        }
      ],
      "source": [
        "corr = X_os.corr()\n",
        "sns.heatmap(corr, cmap = \"YlGnBu\")"
      ]
    },
    {
      "cell_type": "code",
      "execution_count": 21,
      "metadata": {
        "id": "03WWkK715iC6"
      },
      "outputs": [
        {
          "name": "stdout",
          "output_type": "stream",
          "text": [
            "CPU times: user 47.9 ms, sys: 4.27 ms, total: 52.2 ms\n",
            "Wall time: 51.2 ms\n"
          ]
        }
      ],
      "source": [
        "%%time\n",
        "\n",
        "X_os = pd.DataFrame(MinMaxScaler().fit_transform(X_os), columns = X_os.columns, index = X_os.index)"
      ]
    },
    {
      "cell_type": "code",
      "execution_count": 22,
      "metadata": {},
      "outputs": [
        {
          "data": {
            "text/html": [
              "<div>\n",
              "<style scoped>\n",
              "    .dataframe tbody tr th:only-of-type {\n",
              "        vertical-align: middle;\n",
              "    }\n",
              "\n",
              "    .dataframe tbody tr th {\n",
              "        vertical-align: top;\n",
              "    }\n",
              "\n",
              "    .dataframe thead th {\n",
              "        text-align: right;\n",
              "    }\n",
              "</style>\n",
              "<table border=\"1\" class=\"dataframe\">\n",
              "  <thead>\n",
              "    <tr style=\"text-align: right;\">\n",
              "      <th></th>\n",
              "      <th>V18</th>\n",
              "      <th>V7</th>\n",
              "      <th>V3</th>\n",
              "      <th>V12</th>\n",
              "      <th>V2</th>\n",
              "      <th>V10</th>\n",
              "      <th>V16</th>\n",
              "      <th>V17</th>\n",
              "      <th>V9</th>\n",
              "      <th>V5</th>\n",
              "      <th>V4</th>\n",
              "      <th>V11</th>\n",
              "      <th>V14</th>\n",
              "      <th>V22</th>\n",
              "    </tr>\n",
              "  </thead>\n",
              "  <tbody>\n",
              "    <tr>\n",
              "      <th>0</th>\n",
              "      <td>0.655066</td>\n",
              "      <td>0.266815</td>\n",
              "      <td>0.881365</td>\n",
              "      <td>0.680908</td>\n",
              "      <td>0.766490</td>\n",
              "      <td>0.510600</td>\n",
              "      <td>0.434392</td>\n",
              "      <td>0.737173</td>\n",
              "      <td>0.475312</td>\n",
              "      <td>0.763439</td>\n",
              "      <td>0.313023</td>\n",
              "      <td>0.252484</td>\n",
              "      <td>0.635591</td>\n",
              "      <td>0.522992</td>\n",
              "    </tr>\n",
              "    <tr>\n",
              "      <th>1</th>\n",
              "      <td>0.640681</td>\n",
              "      <td>0.264875</td>\n",
              "      <td>0.840298</td>\n",
              "      <td>0.744342</td>\n",
              "      <td>0.770067</td>\n",
              "      <td>0.505267</td>\n",
              "      <td>0.464105</td>\n",
              "      <td>0.727794</td>\n",
              "      <td>0.453981</td>\n",
              "      <td>0.766120</td>\n",
              "      <td>0.271796</td>\n",
              "      <td>0.381188</td>\n",
              "      <td>0.641219</td>\n",
              "      <td>0.480237</td>\n",
              "    </tr>\n",
              "    <tr>\n",
              "      <th>2</th>\n",
              "      <td>0.644945</td>\n",
              "      <td>0.270177</td>\n",
              "      <td>0.868141</td>\n",
              "      <td>0.706683</td>\n",
              "      <td>0.753118</td>\n",
              "      <td>0.513018</td>\n",
              "      <td>0.357443</td>\n",
              "      <td>0.763381</td>\n",
              "      <td>0.410603</td>\n",
              "      <td>0.762329</td>\n",
              "      <td>0.268766</td>\n",
              "      <td>0.322422</td>\n",
              "      <td>0.640473</td>\n",
              "      <td>0.546030</td>\n",
              "    </tr>\n",
              "    <tr>\n",
              "      <th>3</th>\n",
              "      <td>0.788492</td>\n",
              "      <td>0.266803</td>\n",
              "      <td>0.868484</td>\n",
              "      <td>0.710910</td>\n",
              "      <td>0.765304</td>\n",
              "      <td>0.507585</td>\n",
              "      <td>0.415653</td>\n",
              "      <td>0.711253</td>\n",
              "      <td>0.414999</td>\n",
              "      <td>0.765647</td>\n",
              "      <td>0.213661</td>\n",
              "      <td>0.271817</td>\n",
              "      <td>0.636372</td>\n",
              "      <td>0.510277</td>\n",
              "    </tr>\n",
              "    <tr>\n",
              "      <th>4</th>\n",
              "      <td>0.650665</td>\n",
              "      <td>0.268968</td>\n",
              "      <td>0.864251</td>\n",
              "      <td>0.724477</td>\n",
              "      <td>0.776520</td>\n",
              "      <td>0.524303</td>\n",
              "      <td>0.434995</td>\n",
              "      <td>0.724243</td>\n",
              "      <td>0.490950</td>\n",
              "      <td>0.762975</td>\n",
              "      <td>0.269796</td>\n",
              "      <td>0.236355</td>\n",
              "      <td>0.608406</td>\n",
              "      <td>0.547271</td>\n",
              "    </tr>\n",
              "    <tr>\n",
              "      <th>...</th>\n",
              "      <td>...</td>\n",
              "      <td>...</td>\n",
              "      <td>...</td>\n",
              "      <td>...</td>\n",
              "      <td>...</td>\n",
              "      <td>...</td>\n",
              "      <td>...</td>\n",
              "      <td>...</td>\n",
              "      <td>...</td>\n",
              "      <td>...</td>\n",
              "      <td>...</td>\n",
              "      <td>...</td>\n",
              "      <td>...</td>\n",
              "      <td>...</td>\n",
              "    </tr>\n",
              "    <tr>\n",
              "      <th>568625</th>\n",
              "      <td>0.694522</td>\n",
              "      <td>0.256898</td>\n",
              "      <td>0.781831</td>\n",
              "      <td>0.597425</td>\n",
              "      <td>0.794806</td>\n",
              "      <td>0.468383</td>\n",
              "      <td>0.426127</td>\n",
              "      <td>0.751748</td>\n",
              "      <td>0.369436</td>\n",
              "      <td>0.773329</td>\n",
              "      <td>0.487228</td>\n",
              "      <td>0.332945</td>\n",
              "      <td>0.465426</td>\n",
              "      <td>0.504359</td>\n",
              "    </tr>\n",
              "    <tr>\n",
              "      <th>568626</th>\n",
              "      <td>0.375836</td>\n",
              "      <td>0.205227</td>\n",
              "      <td>0.709474</td>\n",
              "      <td>0.438233</td>\n",
              "      <td>0.800560</td>\n",
              "      <td>0.351205</td>\n",
              "      <td>0.236881</td>\n",
              "      <td>0.400348</td>\n",
              "      <td>0.329561</td>\n",
              "      <td>0.737918</td>\n",
              "      <td>0.474626</td>\n",
              "      <td>0.592859</td>\n",
              "      <td>0.414593</td>\n",
              "      <td>0.568495</td>\n",
              "    </tr>\n",
              "    <tr>\n",
              "      <th>568627</th>\n",
              "      <td>0.541019</td>\n",
              "      <td>0.242614</td>\n",
              "      <td>0.760444</td>\n",
              "      <td>0.517858</td>\n",
              "      <td>0.784671</td>\n",
              "      <td>0.407178</td>\n",
              "      <td>0.353825</td>\n",
              "      <td>0.524854</td>\n",
              "      <td>0.362945</td>\n",
              "      <td>0.762736</td>\n",
              "      <td>0.446261</td>\n",
              "      <td>0.491457</td>\n",
              "      <td>0.396458</td>\n",
              "      <td>0.517842</td>\n",
              "    </tr>\n",
              "    <tr>\n",
              "      <th>568628</th>\n",
              "      <td>0.119816</td>\n",
              "      <td>0.190145</td>\n",
              "      <td>0.637646</td>\n",
              "      <td>0.199046</td>\n",
              "      <td>0.822840</td>\n",
              "      <td>0.248290</td>\n",
              "      <td>0.076628</td>\n",
              "      <td>0.119689</td>\n",
              "      <td>0.248014</td>\n",
              "      <td>0.712112</td>\n",
              "      <td>0.594546</td>\n",
              "      <td>0.724399</td>\n",
              "      <td>0.154170</td>\n",
              "      <td>0.516773</td>\n",
              "    </tr>\n",
              "    <tr>\n",
              "      <th>568629</th>\n",
              "      <td>0.292005</td>\n",
              "      <td>0.221688</td>\n",
              "      <td>0.724115</td>\n",
              "      <td>0.399316</td>\n",
              "      <td>0.809675</td>\n",
              "      <td>0.357566</td>\n",
              "      <td>0.201844</td>\n",
              "      <td>0.396889</td>\n",
              "      <td>0.343029</td>\n",
              "      <td>0.737548</td>\n",
              "      <td>0.465419</td>\n",
              "      <td>0.541576</td>\n",
              "      <td>0.353423</td>\n",
              "      <td>0.513146</td>\n",
              "    </tr>\n",
              "  </tbody>\n",
              "</table>\n",
              "<p>568630 rows × 14 columns</p>\n",
              "</div>"
            ],
            "text/plain": [
              "             V18        V7        V3       V12        V2       V10       V16  \\\n",
              "0       0.655066  0.266815  0.881365  0.680908  0.766490  0.510600  0.434392   \n",
              "1       0.640681  0.264875  0.840298  0.744342  0.770067  0.505267  0.464105   \n",
              "2       0.644945  0.270177  0.868141  0.706683  0.753118  0.513018  0.357443   \n",
              "3       0.788492  0.266803  0.868484  0.710910  0.765304  0.507585  0.415653   \n",
              "4       0.650665  0.268968  0.864251  0.724477  0.776520  0.524303  0.434995   \n",
              "...          ...       ...       ...       ...       ...       ...       ...   \n",
              "568625  0.694522  0.256898  0.781831  0.597425  0.794806  0.468383  0.426127   \n",
              "568626  0.375836  0.205227  0.709474  0.438233  0.800560  0.351205  0.236881   \n",
              "568627  0.541019  0.242614  0.760444  0.517858  0.784671  0.407178  0.353825   \n",
              "568628  0.119816  0.190145  0.637646  0.199046  0.822840  0.248290  0.076628   \n",
              "568629  0.292005  0.221688  0.724115  0.399316  0.809675  0.357566  0.201844   \n",
              "\n",
              "             V17        V9        V5        V4       V11       V14       V22  \n",
              "0       0.737173  0.475312  0.763439  0.313023  0.252484  0.635591  0.522992  \n",
              "1       0.727794  0.453981  0.766120  0.271796  0.381188  0.641219  0.480237  \n",
              "2       0.763381  0.410603  0.762329  0.268766  0.322422  0.640473  0.546030  \n",
              "3       0.711253  0.414999  0.765647  0.213661  0.271817  0.636372  0.510277  \n",
              "4       0.724243  0.490950  0.762975  0.269796  0.236355  0.608406  0.547271  \n",
              "...          ...       ...       ...       ...       ...       ...       ...  \n",
              "568625  0.751748  0.369436  0.773329  0.487228  0.332945  0.465426  0.504359  \n",
              "568626  0.400348  0.329561  0.737918  0.474626  0.592859  0.414593  0.568495  \n",
              "568627  0.524854  0.362945  0.762736  0.446261  0.491457  0.396458  0.517842  \n",
              "568628  0.119689  0.248014  0.712112  0.594546  0.724399  0.154170  0.516773  \n",
              "568629  0.396889  0.343029  0.737548  0.465419  0.541576  0.353423  0.513146  \n",
              "\n",
              "[568630 rows x 14 columns]"
            ]
          },
          "execution_count": 22,
          "metadata": {},
          "output_type": "execute_result"
        }
      ],
      "source": [
        "X_os"
      ]
    },
    {
      "cell_type": "code",
      "execution_count": 23,
      "metadata": {},
      "outputs": [
        {
          "data": {
            "text/plain": [
              "<Axes: >"
            ]
          },
          "execution_count": 23,
          "metadata": {},
          "output_type": "execute_result"
        },
        {
          "data": {
            "image/png": "[encoded data removed]",
            "text/plain": [
              "<Figure size 640x480 with 2 Axes>"
            ]
          },
          "metadata": {},
          "output_type": "display_data"
        }
      ],
      "source": [
        "corr = X_os.corr()\n",
        "sns.heatmap(corr, cmap = \"YlGnBu\")"
      ]
    },
    {
      "cell_type": "code",
      "execution_count": 24,
      "metadata": {
        "id": "dirQOdiL5iC6"
      },
      "outputs": [],
      "source": [
        "X_train, X_test, y_train, y_test = train_test_split(X_os, y_os, test_size = 0.35, random_state = 123)"
      ]
    },
    {
      "attachments": {},
      "cell_type": "markdown",
      "metadata": {
        "id": "X8dbOlRmBD0o"
      },
      "source": [
        "# Обучение ML-моделей\n",
        "### Логистическая регрессия"
      ]
    },
    {
      "cell_type": "code",
      "execution_count": 25,
      "metadata": {
        "colab": {
          "base_uri": "https://localhost:8080/"
        },
        "id": "ZBbQ0df074LN",
        "outputId": "03b3c288-1f57-4f3a-a6de-145312699416"
      },
      "outputs": [
        {
          "name": "stderr",
          "output_type": "stream",
          "text": [
            "/home/egor/anaconda3/lib/python3.10/site-packages/sklearn/utils/validation.py:1143: DataConversionWarning: A column-vector y was passed when a 1d array was expected. Please change the shape of y to (n_samples, ), for example using ravel().\n",
            "  y = column_or_1d(y, warn=True)\n",
            "/home/egor/anaconda3/lib/python3.10/site-packages/sklearn/linear_model/_logistic.py:458: ConvergenceWarning: lbfgs failed to converge (status=1):\n",
            "STOP: TOTAL NO. of ITERATIONS REACHED LIMIT.\n",
            "\n",
            "Increase the number of iterations (max_iter) or scale the data as shown in:\n",
            "    https://scikit-learn.org/stable/modules/preprocessing.html\n",
            "Please also refer to the documentation for alternative solver options:\n",
            "    https://scikit-learn.org/stable/modules/linear_model.html#logistic-regression\n",
            "  n_iter_i = _check_optimize_result(\n"
          ]
        }
      ],
      "source": [
        "model_0 = LogisticRegression()\n",
        "model_0.fit(X_train, y_train)\n",
        "pred_0 = model_0.predict(X_test)"
      ]
    },
    {
      "cell_type": "code",
      "execution_count": 26,
      "metadata": {
        "colab": {
          "base_uri": "https://localhost:8080/"
        },
        "id": "j8YjVFsK-GhQ",
        "outputId": "1838fb31-1566-4e1e-bfca-10cab55a7faf"
      },
      "outputs": [
        {
          "name": "stdout",
          "output_type": "stream",
          "text": [
            "0.9732239311429447\n",
            "0.9904850940064402\n",
            "0.9557669369631241\n"
          ]
        }
      ],
      "source": [
        "print(accuracy_score(pred_0, y_test))\n",
        "print(recall_score(pred_0, y_test))\n",
        "print(precision_score(pred_0, y_test))"
      ]
    },
    {
      "attachments": {},
      "cell_type": "markdown",
      "metadata": {
        "id": "R7eYycRAA-8B"
      },
      "source": [
        "### Дерево решений"
      ]
    },
    {
      "cell_type": "code",
      "execution_count": 31,
      "metadata": {
        "id": "AUx7Ykl1AERv"
      },
      "outputs": [],
      "source": [
        "model_1 = DecisionTreeClassifier()\n",
        "model_1.fit(X_train, y_train)\n",
        "pred_1 = model_1.predict(X_test)"
      ]
    },
    {
      "cell_type": "code",
      "execution_count": 32,
      "metadata": {
        "colab": {
          "base_uri": "https://localhost:8080/"
        },
        "id": "kxDc_F9CAV5X",
        "outputId": "5a28353e-81d3-4b42-8bce-84d8a4852ff9"
      },
      "outputs": [
        {
          "name": "stdout",
          "output_type": "stream",
          "text": [
            "0.9949502816285719\n",
            "0.9943339940336757\n",
            "0.9955997474114687\n"
          ]
        }
      ],
      "source": [
        "print(accuracy_score(pred_1, y_test))\n",
        "print(recall_score(pred_1, y_test))\n",
        "print(precision_score(pred_1, y_test))"
      ]
    },
    {
      "attachments": {},
      "cell_type": "markdown",
      "metadata": {
        "id": "rRTEY81sBFRs"
      },
      "source": [
        "### Случайный лес"
      ]
    },
    {
      "cell_type": "code",
      "execution_count": null,
      "metadata": {},
      "outputs": [],
      "source": [
        "model_2 = RandomForestClassifier()\n",
        "model_2.fit(X_train, y_train)\n",
        "pred_2 = model_2.predict(X_test)"
      ]
    },
    {
      "cell_type": "code",
      "execution_count": null,
      "metadata": {},
      "outputs": [],
      "source": [
        "print(accuracy_score(pred_2, y_test))\n",
        "print(recall_score(pred_2, y_test))\n",
        "print(precision_score(pred_2, y_test))"
      ]
    },
    {
      "attachments": {},
      "cell_type": "markdown",
      "metadata": {},
      "source": [
        "### CatBoost"
      ]
    },
    {
      "cell_type": "code",
      "execution_count": 52,
      "metadata": {},
      "outputs": [
        {
          "name": "stdout",
          "output_type": "stream",
          "text": [
            "0:\tlearn: 0.4819887\ttotal: 32.5ms\tremaining: 16.2s\n",
            "1:\tlearn: 0.3379967\ttotal: 63.9ms\tremaining: 15.9s\n",
            "2:\tlearn: 0.2524736\ttotal: 96ms\tremaining: 15.9s\n",
            "3:\tlearn: 0.2011518\ttotal: 126ms\tremaining: 15.7s\n",
            "4:\tlearn: 0.1662998\ttotal: 153ms\tremaining: 15.1s\n",
            "5:\tlearn: 0.1427261\ttotal: 182ms\tremaining: 15s\n",
            "6:\tlearn: 0.1272840\ttotal: 212ms\tremaining: 15s\n",
            "7:\tlearn: 0.1148596\ttotal: 246ms\tremaining: 15.1s\n",
            "8:\tlearn: 0.1048609\ttotal: 278ms\tremaining: 15.2s\n",
            "9:\tlearn: 0.0970800\ttotal: 315ms\tremaining: 15.4s\n",
            "10:\tlearn: 0.0918176\ttotal: 347ms\tremaining: 15.4s\n",
            "11:\tlearn: 0.0876942\ttotal: 376ms\tremaining: 15.3s\n",
            "12:\tlearn: 0.0845974\ttotal: 405ms\tremaining: 15.2s\n",
            "13:\tlearn: 0.0803968\ttotal: 437ms\tremaining: 15.2s\n",
            "14:\tlearn: 0.0777476\ttotal: 467ms\tremaining: 15.1s\n",
            "15:\tlearn: 0.0757250\ttotal: 500ms\tremaining: 15.1s\n",
            "16:\tlearn: 0.0734029\ttotal: 539ms\tremaining: 15.3s\n",
            "17:\tlearn: 0.0716630\ttotal: 568ms\tremaining: 15.2s\n",
            "18:\tlearn: 0.0694408\ttotal: 598ms\tremaining: 15.1s\n",
            "19:\tlearn: 0.0678737\ttotal: 623ms\tremaining: 15s\n",
            "20:\tlearn: 0.0664458\ttotal: 650ms\tremaining: 14.8s\n",
            "21:\tlearn: 0.0650886\ttotal: 685ms\tremaining: 14.9s\n",
            "22:\tlearn: 0.0638456\ttotal: 716ms\tremaining: 14.8s\n",
            "23:\tlearn: 0.0629047\ttotal: 748ms\tremaining: 14.8s\n",
            "24:\tlearn: 0.0617557\ttotal: 781ms\tremaining: 14.8s\n",
            "25:\tlearn: 0.0606036\ttotal: 810ms\tremaining: 14.8s\n",
            "26:\tlearn: 0.0597706\ttotal: 838ms\tremaining: 14.7s\n",
            "27:\tlearn: 0.0587854\ttotal: 870ms\tremaining: 14.7s\n",
            "28:\tlearn: 0.0578952\ttotal: 905ms\tremaining: 14.7s\n",
            "29:\tlearn: 0.0568717\ttotal: 936ms\tremaining: 14.7s\n",
            "30:\tlearn: 0.0561862\ttotal: 968ms\tremaining: 14.6s\n",
            "31:\tlearn: 0.0552922\ttotal: 1s\tremaining: 14.6s\n",
            "32:\tlearn: 0.0546740\ttotal: 1.02s\tremaining: 14.5s\n",
            "33:\tlearn: 0.0539289\ttotal: 1.05s\tremaining: 14.5s\n",
            "34:\tlearn: 0.0529048\ttotal: 1.08s\tremaining: 14.4s\n",
            "35:\tlearn: 0.0520927\ttotal: 1.12s\tremaining: 14.4s\n",
            "36:\tlearn: 0.0515125\ttotal: 1.15s\tremaining: 14.4s\n",
            "37:\tlearn: 0.0507872\ttotal: 1.18s\tremaining: 14.4s\n",
            "38:\tlearn: 0.0500140\ttotal: 1.22s\tremaining: 14.4s\n",
            "39:\tlearn: 0.0495074\ttotal: 1.25s\tremaining: 14.3s\n",
            "40:\tlearn: 0.0488841\ttotal: 1.28s\tremaining: 14.3s\n",
            "41:\tlearn: 0.0481867\ttotal: 1.31s\tremaining: 14.3s\n",
            "42:\tlearn: 0.0475616\ttotal: 1.34s\tremaining: 14.2s\n",
            "43:\tlearn: 0.0471383\ttotal: 1.37s\tremaining: 14.2s\n",
            "44:\tlearn: 0.0464280\ttotal: 1.41s\tremaining: 14.2s\n",
            "45:\tlearn: 0.0457837\ttotal: 1.47s\tremaining: 14.5s\n",
            "46:\tlearn: 0.0453349\ttotal: 1.51s\tremaining: 14.6s\n",
            "47:\tlearn: 0.0447568\ttotal: 1.55s\tremaining: 14.6s\n",
            "48:\tlearn: 0.0441271\ttotal: 1.59s\tremaining: 14.6s\n",
            "49:\tlearn: 0.0434675\ttotal: 1.62s\tremaining: 14.6s\n",
            "50:\tlearn: 0.0429488\ttotal: 1.65s\tremaining: 14.5s\n",
            "51:\tlearn: 0.0424860\ttotal: 1.68s\tremaining: 14.5s\n",
            "52:\tlearn: 0.0420743\ttotal: 1.72s\tremaining: 14.5s\n",
            "53:\tlearn: 0.0414649\ttotal: 1.76s\tremaining: 14.6s\n",
            "54:\tlearn: 0.0410024\ttotal: 1.8s\tremaining: 14.6s\n",
            "55:\tlearn: 0.0404688\ttotal: 1.85s\tremaining: 14.7s\n",
            "56:\tlearn: 0.0402243\ttotal: 1.89s\tremaining: 14.7s\n",
            "57:\tlearn: 0.0399009\ttotal: 1.92s\tremaining: 14.6s\n",
            "58:\tlearn: 0.0393730\ttotal: 1.96s\tremaining: 14.6s\n",
            "59:\tlearn: 0.0389825\ttotal: 1.99s\tremaining: 14.6s\n",
            "60:\tlearn: 0.0384783\ttotal: 2.02s\tremaining: 14.5s\n",
            "61:\tlearn: 0.0379028\ttotal: 2.05s\tremaining: 14.5s\n",
            "62:\tlearn: 0.0374662\ttotal: 2.08s\tremaining: 14.4s\n",
            "63:\tlearn: 0.0370127\ttotal: 2.11s\tremaining: 14.3s\n",
            "64:\tlearn: 0.0367376\ttotal: 2.13s\tremaining: 14.3s\n",
            "65:\tlearn: 0.0362684\ttotal: 2.16s\tremaining: 14.2s\n",
            "66:\tlearn: 0.0359552\ttotal: 2.19s\tremaining: 14.2s\n",
            "67:\tlearn: 0.0355587\ttotal: 2.23s\tremaining: 14.2s\n",
            "68:\tlearn: 0.0352995\ttotal: 2.25s\tremaining: 14.1s\n",
            "69:\tlearn: 0.0350029\ttotal: 2.29s\tremaining: 14s\n",
            "70:\tlearn: 0.0345274\ttotal: 2.31s\tremaining: 14s\n",
            "71:\tlearn: 0.0341263\ttotal: 2.34s\tremaining: 13.9s\n",
            "72:\tlearn: 0.0337331\ttotal: 2.37s\tremaining: 13.8s\n",
            "73:\tlearn: 0.0331458\ttotal: 2.4s\tremaining: 13.8s\n",
            "74:\tlearn: 0.0327825\ttotal: 2.43s\tremaining: 13.8s\n",
            "75:\tlearn: 0.0326862\ttotal: 2.45s\tremaining: 13.7s\n",
            "76:\tlearn: 0.0324189\ttotal: 2.48s\tremaining: 13.6s\n",
            "77:\tlearn: 0.0321464\ttotal: 2.51s\tremaining: 13.6s\n",
            "78:\tlearn: 0.0318471\ttotal: 2.53s\tremaining: 13.5s\n",
            "79:\tlearn: 0.0314741\ttotal: 2.56s\tremaining: 13.4s\n",
            "80:\tlearn: 0.0312512\ttotal: 2.59s\tremaining: 13.4s\n",
            "81:\tlearn: 0.0310345\ttotal: 2.63s\tremaining: 13.4s\n",
            "82:\tlearn: 0.0307707\ttotal: 2.65s\tremaining: 13.3s\n",
            "83:\tlearn: 0.0305054\ttotal: 2.68s\tremaining: 13.3s\n",
            "84:\tlearn: 0.0302662\ttotal: 2.71s\tremaining: 13.3s\n",
            "85:\tlearn: 0.0298731\ttotal: 2.74s\tremaining: 13.2s\n",
            "86:\tlearn: 0.0295174\ttotal: 2.78s\tremaining: 13.2s\n",
            "87:\tlearn: 0.0291308\ttotal: 2.81s\tremaining: 13.2s\n",
            "88:\tlearn: 0.0290062\ttotal: 2.84s\tremaining: 13.1s\n",
            "89:\tlearn: 0.0286619\ttotal: 2.87s\tremaining: 13.1s\n",
            "90:\tlearn: 0.0283800\ttotal: 2.91s\tremaining: 13.1s\n",
            "91:\tlearn: 0.0281514\ttotal: 2.94s\tremaining: 13s\n",
            "92:\tlearn: 0.0278533\ttotal: 2.97s\tremaining: 13s\n",
            "93:\tlearn: 0.0276021\ttotal: 3s\tremaining: 13s\n",
            "94:\tlearn: 0.0274203\ttotal: 3.03s\tremaining: 12.9s\n",
            "95:\tlearn: 0.0271107\ttotal: 3.06s\tremaining: 12.9s\n",
            "96:\tlearn: 0.0269594\ttotal: 3.09s\tremaining: 12.9s\n",
            "97:\tlearn: 0.0268034\ttotal: 3.12s\tremaining: 12.8s\n",
            "98:\tlearn: 0.0267300\ttotal: 3.15s\tremaining: 12.8s\n",
            "99:\tlearn: 0.0263376\ttotal: 3.18s\tremaining: 12.7s\n",
            "100:\tlearn: 0.0261008\ttotal: 3.21s\tremaining: 12.7s\n",
            "101:\tlearn: 0.0260032\ttotal: 3.23s\tremaining: 12.6s\n",
            "102:\tlearn: 0.0256779\ttotal: 3.26s\tremaining: 12.6s\n",
            "103:\tlearn: 0.0253982\ttotal: 3.29s\tremaining: 12.5s\n",
            "104:\tlearn: 0.0251356\ttotal: 3.32s\tremaining: 12.5s\n",
            "105:\tlearn: 0.0248934\ttotal: 3.35s\tremaining: 12.5s\n",
            "106:\tlearn: 0.0245992\ttotal: 3.38s\tremaining: 12.4s\n",
            "107:\tlearn: 0.0243972\ttotal: 3.41s\tremaining: 12.4s\n",
            "108:\tlearn: 0.0243386\ttotal: 3.44s\tremaining: 12.3s\n",
            "109:\tlearn: 0.0242323\ttotal: 3.46s\tremaining: 12.3s\n",
            "110:\tlearn: 0.0241358\ttotal: 3.5s\tremaining: 12.3s\n",
            "111:\tlearn: 0.0239158\ttotal: 3.52s\tremaining: 12.2s\n",
            "112:\tlearn: 0.0236602\ttotal: 3.56s\tremaining: 12.2s\n",
            "113:\tlearn: 0.0235223\ttotal: 3.58s\tremaining: 12.1s\n",
            "114:\tlearn: 0.0233077\ttotal: 3.62s\tremaining: 12.1s\n",
            "115:\tlearn: 0.0231025\ttotal: 3.65s\tremaining: 12.1s\n",
            "116:\tlearn: 0.0229125\ttotal: 3.68s\tremaining: 12s\n",
            "117:\tlearn: 0.0227397\ttotal: 3.71s\tremaining: 12s\n",
            "118:\tlearn: 0.0226975\ttotal: 3.74s\tremaining: 12s\n",
            "119:\tlearn: 0.0224935\ttotal: 3.77s\tremaining: 11.9s\n",
            "120:\tlearn: 0.0222660\ttotal: 3.81s\tremaining: 11.9s\n",
            "121:\tlearn: 0.0222278\ttotal: 3.84s\tremaining: 11.9s\n",
            "122:\tlearn: 0.0221316\ttotal: 3.87s\tremaining: 11.8s\n",
            "123:\tlearn: 0.0220905\ttotal: 3.89s\tremaining: 11.8s\n",
            "124:\tlearn: 0.0218936\ttotal: 3.93s\tremaining: 11.8s\n",
            "125:\tlearn: 0.0217519\ttotal: 3.95s\tremaining: 11.7s\n",
            "126:\tlearn: 0.0214413\ttotal: 3.99s\tremaining: 11.7s\n",
            "127:\tlearn: 0.0213221\ttotal: 4.02s\tremaining: 11.7s\n",
            "128:\tlearn: 0.0211517\ttotal: 4.05s\tremaining: 11.7s\n",
            "129:\tlearn: 0.0209453\ttotal: 4.08s\tremaining: 11.6s\n",
            "130:\tlearn: 0.0208935\ttotal: 4.11s\tremaining: 11.6s\n",
            "131:\tlearn: 0.0207096\ttotal: 4.14s\tremaining: 11.5s\n",
            "132:\tlearn: 0.0206008\ttotal: 4.17s\tremaining: 11.5s\n",
            "133:\tlearn: 0.0205731\ttotal: 4.2s\tremaining: 11.5s\n",
            "134:\tlearn: 0.0204138\ttotal: 4.22s\tremaining: 11.4s\n",
            "135:\tlearn: 0.0203031\ttotal: 4.25s\tremaining: 11.4s\n",
            "136:\tlearn: 0.0201702\ttotal: 4.28s\tremaining: 11.3s\n",
            "137:\tlearn: 0.0200656\ttotal: 4.31s\tremaining: 11.3s\n",
            "138:\tlearn: 0.0200081\ttotal: 4.34s\tremaining: 11.3s\n",
            "139:\tlearn: 0.0199278\ttotal: 4.37s\tremaining: 11.2s\n",
            "140:\tlearn: 0.0197428\ttotal: 4.4s\tremaining: 11.2s\n",
            "141:\tlearn: 0.0195787\ttotal: 4.43s\tremaining: 11.2s\n",
            "142:\tlearn: 0.0195282\ttotal: 4.46s\tremaining: 11.1s\n",
            "143:\tlearn: 0.0192696\ttotal: 4.48s\tremaining: 11.1s\n",
            "144:\tlearn: 0.0191431\ttotal: 4.51s\tremaining: 11.1s\n",
            "145:\tlearn: 0.0190187\ttotal: 4.54s\tremaining: 11s\n",
            "146:\tlearn: 0.0189171\ttotal: 4.57s\tremaining: 11s\n",
            "147:\tlearn: 0.0188577\ttotal: 4.6s\tremaining: 10.9s\n",
            "148:\tlearn: 0.0187193\ttotal: 4.63s\tremaining: 10.9s\n",
            "149:\tlearn: 0.0185883\ttotal: 4.66s\tremaining: 10.9s\n",
            "150:\tlearn: 0.0184415\ttotal: 4.69s\tremaining: 10.8s\n",
            "151:\tlearn: 0.0183016\ttotal: 4.72s\tremaining: 10.8s\n",
            "152:\tlearn: 0.0181616\ttotal: 4.75s\tremaining: 10.8s\n",
            "153:\tlearn: 0.0180625\ttotal: 4.78s\tremaining: 10.7s\n",
            "154:\tlearn: 0.0180375\ttotal: 4.82s\tremaining: 10.7s\n",
            "155:\tlearn: 0.0178853\ttotal: 4.85s\tremaining: 10.7s\n",
            "156:\tlearn: 0.0178374\ttotal: 4.88s\tremaining: 10.7s\n",
            "157:\tlearn: 0.0176793\ttotal: 4.91s\tremaining: 10.6s\n",
            "158:\tlearn: 0.0175728\ttotal: 4.94s\tremaining: 10.6s\n",
            "159:\tlearn: 0.0174080\ttotal: 4.97s\tremaining: 10.6s\n",
            "160:\tlearn: 0.0172603\ttotal: 5s\tremaining: 10.5s\n",
            "161:\tlearn: 0.0171442\ttotal: 5.04s\tremaining: 10.5s\n",
            "162:\tlearn: 0.0170461\ttotal: 5.07s\tremaining: 10.5s\n",
            "163:\tlearn: 0.0169926\ttotal: 5.1s\tremaining: 10.4s\n",
            "164:\tlearn: 0.0168860\ttotal: 5.13s\tremaining: 10.4s\n",
            "165:\tlearn: 0.0168061\ttotal: 5.16s\tremaining: 10.4s\n",
            "166:\tlearn: 0.0166680\ttotal: 5.19s\tremaining: 10.3s\n",
            "167:\tlearn: 0.0165677\ttotal: 5.22s\tremaining: 10.3s\n",
            "168:\tlearn: 0.0165090\ttotal: 5.25s\tremaining: 10.3s\n",
            "169:\tlearn: 0.0164587\ttotal: 5.28s\tremaining: 10.3s\n",
            "170:\tlearn: 0.0163577\ttotal: 5.31s\tremaining: 10.2s\n",
            "171:\tlearn: 0.0162153\ttotal: 5.35s\tremaining: 10.2s\n",
            "172:\tlearn: 0.0160965\ttotal: 5.38s\tremaining: 10.2s\n",
            "173:\tlearn: 0.0160456\ttotal: 5.41s\tremaining: 10.1s\n",
            "174:\tlearn: 0.0159377\ttotal: 5.45s\tremaining: 10.1s\n",
            "175:\tlearn: 0.0157987\ttotal: 5.47s\tremaining: 10.1s\n",
            "176:\tlearn: 0.0157308\ttotal: 5.5s\tremaining: 10s\n",
            "177:\tlearn: 0.0157131\ttotal: 5.53s\tremaining: 9.99s\n",
            "178:\tlearn: 0.0156037\ttotal: 5.55s\tremaining: 9.96s\n",
            "179:\tlearn: 0.0155249\ttotal: 5.58s\tremaining: 9.92s\n",
            "180:\tlearn: 0.0155097\ttotal: 5.6s\tremaining: 9.88s\n",
            "181:\tlearn: 0.0154327\ttotal: 5.63s\tremaining: 9.84s\n",
            "182:\tlearn: 0.0153652\ttotal: 5.66s\tremaining: 9.8s\n",
            "183:\tlearn: 0.0152461\ttotal: 5.69s\tremaining: 9.77s\n",
            "184:\tlearn: 0.0152308\ttotal: 5.72s\tremaining: 9.74s\n",
            "185:\tlearn: 0.0151357\ttotal: 5.75s\tremaining: 9.7s\n",
            "186:\tlearn: 0.0150533\ttotal: 5.77s\tremaining: 9.66s\n",
            "187:\tlearn: 0.0149333\ttotal: 5.8s\tremaining: 9.63s\n",
            "188:\tlearn: 0.0149022\ttotal: 5.82s\tremaining: 9.58s\n",
            "189:\tlearn: 0.0147936\ttotal: 5.85s\tremaining: 9.54s\n",
            "190:\tlearn: 0.0147367\ttotal: 5.88s\tremaining: 9.52s\n",
            "191:\tlearn: 0.0146442\ttotal: 5.91s\tremaining: 9.48s\n",
            "192:\tlearn: 0.0144714\ttotal: 5.94s\tremaining: 9.44s\n",
            "193:\tlearn: 0.0144251\ttotal: 5.96s\tremaining: 9.4s\n",
            "194:\tlearn: 0.0143529\ttotal: 5.99s\tremaining: 9.37s\n",
            "195:\tlearn: 0.0143128\ttotal: 6.02s\tremaining: 9.34s\n",
            "196:\tlearn: 0.0142322\ttotal: 6.05s\tremaining: 9.31s\n",
            "197:\tlearn: 0.0141620\ttotal: 6.08s\tremaining: 9.27s\n",
            "198:\tlearn: 0.0140954\ttotal: 6.11s\tremaining: 9.24s\n",
            "199:\tlearn: 0.0140226\ttotal: 6.14s\tremaining: 9.21s\n",
            "200:\tlearn: 0.0139561\ttotal: 6.17s\tremaining: 9.17s\n",
            "201:\tlearn: 0.0138824\ttotal: 6.19s\tremaining: 9.13s\n",
            "202:\tlearn: 0.0138146\ttotal: 6.22s\tremaining: 9.1s\n",
            "203:\tlearn: 0.0137577\ttotal: 6.25s\tremaining: 9.07s\n",
            "204:\tlearn: 0.0136726\ttotal: 6.28s\tremaining: 9.03s\n",
            "205:\tlearn: 0.0135794\ttotal: 6.31s\tremaining: 9s\n",
            "206:\tlearn: 0.0134841\ttotal: 6.34s\tremaining: 8.97s\n",
            "207:\tlearn: 0.0134285\ttotal: 6.37s\tremaining: 8.94s\n",
            "208:\tlearn: 0.0133415\ttotal: 6.39s\tremaining: 8.9s\n",
            "209:\tlearn: 0.0132358\ttotal: 6.42s\tremaining: 8.87s\n",
            "210:\tlearn: 0.0131660\ttotal: 6.46s\tremaining: 8.84s\n",
            "211:\tlearn: 0.0131467\ttotal: 6.48s\tremaining: 8.8s\n",
            "212:\tlearn: 0.0130560\ttotal: 6.5s\tremaining: 8.77s\n",
            "213:\tlearn: 0.0129776\ttotal: 6.53s\tremaining: 8.73s\n",
            "214:\tlearn: 0.0129309\ttotal: 6.57s\tremaining: 8.7s\n",
            "215:\tlearn: 0.0128965\ttotal: 6.59s\tremaining: 8.66s\n",
            "216:\tlearn: 0.0128410\ttotal: 6.62s\tremaining: 8.63s\n",
            "217:\tlearn: 0.0128171\ttotal: 6.64s\tremaining: 8.59s\n",
            "218:\tlearn: 0.0127443\ttotal: 6.67s\tremaining: 8.56s\n",
            "219:\tlearn: 0.0126923\ttotal: 6.7s\tremaining: 8.53s\n",
            "220:\tlearn: 0.0126495\ttotal: 6.73s\tremaining: 8.5s\n",
            "221:\tlearn: 0.0126394\ttotal: 6.76s\tremaining: 8.47s\n",
            "222:\tlearn: 0.0126102\ttotal: 6.79s\tremaining: 8.44s\n",
            "223:\tlearn: 0.0125239\ttotal: 6.82s\tremaining: 8.4s\n",
            "224:\tlearn: 0.0124884\ttotal: 6.85s\tremaining: 8.37s\n",
            "225:\tlearn: 0.0124884\ttotal: 6.88s\tremaining: 8.34s\n",
            "226:\tlearn: 0.0124797\ttotal: 6.91s\tremaining: 8.31s\n",
            "227:\tlearn: 0.0124136\ttotal: 6.94s\tremaining: 8.28s\n",
            "228:\tlearn: 0.0123203\ttotal: 6.97s\tremaining: 8.25s\n",
            "229:\tlearn: 0.0122935\ttotal: 7s\tremaining: 8.22s\n",
            "230:\tlearn: 0.0122470\ttotal: 7.03s\tremaining: 8.19s\n",
            "231:\tlearn: 0.0121757\ttotal: 7.06s\tremaining: 8.16s\n",
            "232:\tlearn: 0.0121576\ttotal: 7.1s\tremaining: 8.13s\n",
            "233:\tlearn: 0.0121174\ttotal: 7.12s\tremaining: 8.1s\n",
            "234:\tlearn: 0.0120220\ttotal: 7.15s\tremaining: 8.07s\n",
            "235:\tlearn: 0.0120095\ttotal: 7.19s\tremaining: 8.04s\n",
            "236:\tlearn: 0.0119616\ttotal: 7.22s\tremaining: 8.02s\n",
            "237:\tlearn: 0.0118969\ttotal: 7.25s\tremaining: 7.99s\n",
            "238:\tlearn: 0.0118114\ttotal: 7.29s\tremaining: 7.96s\n",
            "239:\tlearn: 0.0117850\ttotal: 7.32s\tremaining: 7.93s\n",
            "240:\tlearn: 0.0117479\ttotal: 7.34s\tremaining: 7.89s\n",
            "241:\tlearn: 0.0117115\ttotal: 7.37s\tremaining: 7.86s\n",
            "242:\tlearn: 0.0116522\ttotal: 7.4s\tremaining: 7.83s\n",
            "243:\tlearn: 0.0116415\ttotal: 7.43s\tremaining: 7.8s\n",
            "244:\tlearn: 0.0115470\ttotal: 7.46s\tremaining: 7.76s\n",
            "245:\tlearn: 0.0115170\ttotal: 7.49s\tremaining: 7.73s\n",
            "246:\tlearn: 0.0114760\ttotal: 7.52s\tremaining: 7.7s\n",
            "247:\tlearn: 0.0114138\ttotal: 7.55s\tremaining: 7.67s\n",
            "248:\tlearn: 0.0113389\ttotal: 7.57s\tremaining: 7.63s\n",
            "249:\tlearn: 0.0113250\ttotal: 7.61s\tremaining: 7.61s\n",
            "250:\tlearn: 0.0113066\ttotal: 7.64s\tremaining: 7.58s\n",
            "251:\tlearn: 0.0112579\ttotal: 7.67s\tremaining: 7.55s\n",
            "252:\tlearn: 0.0112158\ttotal: 7.71s\tremaining: 7.53s\n",
            "253:\tlearn: 0.0111532\ttotal: 7.74s\tremaining: 7.49s\n",
            "254:\tlearn: 0.0111455\ttotal: 7.77s\tremaining: 7.46s\n",
            "255:\tlearn: 0.0110930\ttotal: 7.8s\tremaining: 7.43s\n",
            "256:\tlearn: 0.0110273\ttotal: 7.83s\tremaining: 7.41s\n",
            "257:\tlearn: 0.0109901\ttotal: 7.86s\tremaining: 7.38s\n",
            "258:\tlearn: 0.0109708\ttotal: 7.89s\tremaining: 7.34s\n",
            "259:\tlearn: 0.0109243\ttotal: 7.92s\tremaining: 7.31s\n",
            "260:\tlearn: 0.0108508\ttotal: 7.95s\tremaining: 7.28s\n",
            "261:\tlearn: 0.0108270\ttotal: 7.98s\tremaining: 7.25s\n",
            "262:\tlearn: 0.0107664\ttotal: 8.01s\tremaining: 7.22s\n",
            "263:\tlearn: 0.0107571\ttotal: 8.04s\tremaining: 7.18s\n",
            "264:\tlearn: 0.0107241\ttotal: 8.07s\tremaining: 7.16s\n",
            "265:\tlearn: 0.0106872\ttotal: 8.1s\tremaining: 7.13s\n",
            "266:\tlearn: 0.0106768\ttotal: 8.13s\tremaining: 7.09s\n",
            "267:\tlearn: 0.0106176\ttotal: 8.16s\tremaining: 7.06s\n",
            "268:\tlearn: 0.0105609\ttotal: 8.19s\tremaining: 7.03s\n",
            "269:\tlearn: 0.0105471\ttotal: 8.22s\tremaining: 7s\n",
            "270:\tlearn: 0.0105277\ttotal: 8.25s\tremaining: 6.97s\n",
            "271:\tlearn: 0.0105091\ttotal: 8.28s\tremaining: 6.94s\n",
            "272:\tlearn: 0.0104500\ttotal: 8.31s\tremaining: 6.91s\n",
            "273:\tlearn: 0.0103981\ttotal: 8.34s\tremaining: 6.88s\n",
            "274:\tlearn: 0.0103702\ttotal: 8.36s\tremaining: 6.84s\n",
            "275:\tlearn: 0.0103628\ttotal: 8.39s\tremaining: 6.81s\n",
            "276:\tlearn: 0.0103196\ttotal: 8.42s\tremaining: 6.78s\n",
            "277:\tlearn: 0.0102763\ttotal: 8.45s\tremaining: 6.75s\n",
            "278:\tlearn: 0.0102256\ttotal: 8.48s\tremaining: 6.72s\n",
            "279:\tlearn: 0.0102256\ttotal: 8.5s\tremaining: 6.68s\n",
            "280:\tlearn: 0.0102256\ttotal: 8.52s\tremaining: 6.64s\n",
            "281:\tlearn: 0.0102256\ttotal: 8.54s\tremaining: 6.6s\n",
            "282:\tlearn: 0.0102256\ttotal: 8.56s\tremaining: 6.57s\n",
            "283:\tlearn: 0.0102114\ttotal: 8.59s\tremaining: 6.53s\n",
            "284:\tlearn: 0.0101938\ttotal: 8.61s\tremaining: 6.5s\n",
            "285:\tlearn: 0.0101873\ttotal: 8.64s\tremaining: 6.47s\n",
            "286:\tlearn: 0.0101180\ttotal: 8.67s\tremaining: 6.44s\n",
            "287:\tlearn: 0.0100943\ttotal: 8.71s\tremaining: 6.41s\n",
            "288:\tlearn: 0.0100643\ttotal: 8.73s\tremaining: 6.38s\n",
            "289:\tlearn: 0.0100342\ttotal: 8.76s\tremaining: 6.34s\n",
            "290:\tlearn: 0.0100139\ttotal: 8.79s\tremaining: 6.31s\n",
            "291:\tlearn: 0.0099781\ttotal: 8.82s\tremaining: 6.28s\n",
            "292:\tlearn: 0.0099609\ttotal: 8.85s\tremaining: 6.25s\n",
            "293:\tlearn: 0.0098577\ttotal: 8.88s\tremaining: 6.22s\n",
            "294:\tlearn: 0.0098378\ttotal: 8.91s\tremaining: 6.19s\n",
            "295:\tlearn: 0.0097973\ttotal: 8.94s\tremaining: 6.16s\n",
            "296:\tlearn: 0.0097441\ttotal: 8.96s\tremaining: 6.13s\n",
            "297:\tlearn: 0.0097135\ttotal: 8.99s\tremaining: 6.09s\n",
            "298:\tlearn: 0.0096796\ttotal: 9.02s\tremaining: 6.06s\n",
            "299:\tlearn: 0.0096370\ttotal: 9.05s\tremaining: 6.03s\n",
            "300:\tlearn: 0.0096209\ttotal: 9.07s\tremaining: 6s\n",
            "301:\tlearn: 0.0095896\ttotal: 9.1s\tremaining: 5.97s\n",
            "302:\tlearn: 0.0095242\ttotal: 9.13s\tremaining: 5.94s\n",
            "303:\tlearn: 0.0095181\ttotal: 9.16s\tremaining: 5.9s\n",
            "304:\tlearn: 0.0094847\ttotal: 9.18s\tremaining: 5.87s\n",
            "305:\tlearn: 0.0094389\ttotal: 9.22s\tremaining: 5.84s\n",
            "306:\tlearn: 0.0094050\ttotal: 9.25s\tremaining: 5.81s\n",
            "307:\tlearn: 0.0093934\ttotal: 9.28s\tremaining: 5.78s\n",
            "308:\tlearn: 0.0093216\ttotal: 9.31s\tremaining: 5.75s\n",
            "309:\tlearn: 0.0093076\ttotal: 9.34s\tremaining: 5.72s\n",
            "310:\tlearn: 0.0092790\ttotal: 9.37s\tremaining: 5.69s\n",
            "311:\tlearn: 0.0092685\ttotal: 9.39s\tremaining: 5.66s\n",
            "312:\tlearn: 0.0092534\ttotal: 9.42s\tremaining: 5.63s\n",
            "313:\tlearn: 0.0092103\ttotal: 9.45s\tremaining: 5.6s\n",
            "314:\tlearn: 0.0091701\ttotal: 9.47s\tremaining: 5.56s\n",
            "315:\tlearn: 0.0091392\ttotal: 9.5s\tremaining: 5.53s\n",
            "316:\tlearn: 0.0091227\ttotal: 9.53s\tremaining: 5.5s\n",
            "317:\tlearn: 0.0091228\ttotal: 9.56s\tremaining: 5.47s\n",
            "318:\tlearn: 0.0091227\ttotal: 9.58s\tremaining: 5.43s\n",
            "319:\tlearn: 0.0091084\ttotal: 9.6s\tremaining: 5.4s\n",
            "320:\tlearn: 0.0090786\ttotal: 9.63s\tremaining: 5.37s\n",
            "321:\tlearn: 0.0090398\ttotal: 9.65s\tremaining: 5.34s\n",
            "322:\tlearn: 0.0090398\ttotal: 9.68s\tremaining: 5.3s\n",
            "323:\tlearn: 0.0090398\ttotal: 9.7s\tremaining: 5.27s\n",
            "324:\tlearn: 0.0090398\ttotal: 9.73s\tremaining: 5.24s\n",
            "325:\tlearn: 0.0090398\ttotal: 9.75s\tremaining: 5.21s\n",
            "326:\tlearn: 0.0090398\ttotal: 9.78s\tremaining: 5.17s\n",
            "327:\tlearn: 0.0090398\ttotal: 9.8s\tremaining: 5.14s\n",
            "328:\tlearn: 0.0090398\ttotal: 9.83s\tremaining: 5.11s\n",
            "329:\tlearn: 0.0090398\ttotal: 9.85s\tremaining: 5.08s\n",
            "330:\tlearn: 0.0090398\ttotal: 9.88s\tremaining: 5.04s\n",
            "331:\tlearn: 0.0090398\ttotal: 9.9s\tremaining: 5.01s\n",
            "332:\tlearn: 0.0090398\ttotal: 9.93s\tremaining: 4.98s\n",
            "333:\tlearn: 0.0090398\ttotal: 9.95s\tremaining: 4.94s\n",
            "334:\tlearn: 0.0090398\ttotal: 9.97s\tremaining: 4.91s\n",
            "335:\tlearn: 0.0090398\ttotal: 10s\tremaining: 4.88s\n",
            "336:\tlearn: 0.0090398\ttotal: 10s\tremaining: 4.85s\n",
            "337:\tlearn: 0.0090398\ttotal: 10.1s\tremaining: 4.82s\n",
            "338:\tlearn: 0.0090398\ttotal: 10.1s\tremaining: 4.79s\n",
            "339:\tlearn: 0.0090398\ttotal: 10.1s\tremaining: 4.75s\n",
            "340:\tlearn: 0.0090398\ttotal: 10.1s\tremaining: 4.72s\n",
            "341:\tlearn: 0.0090398\ttotal: 10.2s\tremaining: 4.69s\n",
            "342:\tlearn: 0.0090398\ttotal: 10.2s\tremaining: 4.66s\n",
            "343:\tlearn: 0.0090337\ttotal: 10.2s\tremaining: 4.63s\n",
            "344:\tlearn: 0.0089976\ttotal: 10.2s\tremaining: 4.6s\n",
            "345:\tlearn: 0.0089759\ttotal: 10.3s\tremaining: 4.57s\n",
            "346:\tlearn: 0.0089443\ttotal: 10.3s\tremaining: 4.54s\n",
            "347:\tlearn: 0.0089210\ttotal: 10.3s\tremaining: 4.51s\n",
            "348:\tlearn: 0.0088789\ttotal: 10.4s\tremaining: 4.48s\n",
            "349:\tlearn: 0.0088516\ttotal: 10.4s\tremaining: 4.45s\n",
            "350:\tlearn: 0.0088056\ttotal: 10.4s\tremaining: 4.42s\n",
            "351:\tlearn: 0.0088056\ttotal: 10.4s\tremaining: 4.39s\n",
            "352:\tlearn: 0.0087799\ttotal: 10.5s\tremaining: 4.36s\n",
            "353:\tlearn: 0.0087707\ttotal: 10.5s\tremaining: 4.33s\n",
            "354:\tlearn: 0.0087707\ttotal: 10.5s\tremaining: 4.3s\n",
            "355:\tlearn: 0.0087707\ttotal: 10.6s\tremaining: 4.28s\n",
            "356:\tlearn: 0.0087707\ttotal: 10.6s\tremaining: 4.25s\n",
            "357:\tlearn: 0.0087707\ttotal: 10.6s\tremaining: 4.21s\n",
            "358:\tlearn: 0.0087706\ttotal: 10.6s\tremaining: 4.18s\n",
            "359:\tlearn: 0.0087706\ttotal: 10.7s\tremaining: 4.15s\n",
            "360:\tlearn: 0.0087706\ttotal: 10.7s\tremaining: 4.12s\n",
            "361:\tlearn: 0.0087705\ttotal: 10.7s\tremaining: 4.09s\n",
            "362:\tlearn: 0.0087705\ttotal: 10.7s\tremaining: 4.05s\n",
            "363:\tlearn: 0.0087705\ttotal: 10.8s\tremaining: 4.02s\n",
            "364:\tlearn: 0.0087650\ttotal: 10.8s\tremaining: 3.99s\n",
            "365:\tlearn: 0.0087649\ttotal: 10.8s\tremaining: 3.96s\n",
            "366:\tlearn: 0.0087649\ttotal: 10.8s\tremaining: 3.93s\n",
            "367:\tlearn: 0.0087649\ttotal: 10.9s\tremaining: 3.9s\n",
            "368:\tlearn: 0.0087649\ttotal: 10.9s\tremaining: 3.87s\n",
            "369:\tlearn: 0.0087649\ttotal: 10.9s\tremaining: 3.83s\n",
            "370:\tlearn: 0.0087649\ttotal: 10.9s\tremaining: 3.8s\n",
            "371:\tlearn: 0.0087649\ttotal: 11s\tremaining: 3.77s\n",
            "372:\tlearn: 0.0087649\ttotal: 11s\tremaining: 3.74s\n",
            "373:\tlearn: 0.0087649\ttotal: 11s\tremaining: 3.71s\n",
            "374:\tlearn: 0.0087649\ttotal: 11s\tremaining: 3.68s\n",
            "375:\tlearn: 0.0087649\ttotal: 11.1s\tremaining: 3.65s\n",
            "376:\tlearn: 0.0087649\ttotal: 11.1s\tremaining: 3.62s\n",
            "377:\tlearn: 0.0087650\ttotal: 11.1s\tremaining: 3.59s\n",
            "378:\tlearn: 0.0087650\ttotal: 11.1s\tremaining: 3.56s\n",
            "379:\tlearn: 0.0087650\ttotal: 11.2s\tremaining: 3.53s\n",
            "380:\tlearn: 0.0087650\ttotal: 11.2s\tremaining: 3.5s\n",
            "381:\tlearn: 0.0087650\ttotal: 11.2s\tremaining: 3.46s\n",
            "382:\tlearn: 0.0087650\ttotal: 11.2s\tremaining: 3.43s\n",
            "383:\tlearn: 0.0087650\ttotal: 11.3s\tremaining: 3.4s\n",
            "384:\tlearn: 0.0087650\ttotal: 11.3s\tremaining: 3.37s\n",
            "385:\tlearn: 0.0087650\ttotal: 11.3s\tremaining: 3.34s\n",
            "386:\tlearn: 0.0087650\ttotal: 11.3s\tremaining: 3.31s\n",
            "387:\tlearn: 0.0087650\ttotal: 11.4s\tremaining: 3.28s\n",
            "388:\tlearn: 0.0087650\ttotal: 11.4s\tremaining: 3.25s\n",
            "389:\tlearn: 0.0087650\ttotal: 11.4s\tremaining: 3.22s\n",
            "390:\tlearn: 0.0087650\ttotal: 11.4s\tremaining: 3.19s\n",
            "391:\tlearn: 0.0087650\ttotal: 11.4s\tremaining: 3.15s\n",
            "392:\tlearn: 0.0087650\ttotal: 11.5s\tremaining: 3.12s\n",
            "393:\tlearn: 0.0087650\ttotal: 11.5s\tremaining: 3.09s\n",
            "394:\tlearn: 0.0087650\ttotal: 11.5s\tremaining: 3.06s\n",
            "395:\tlearn: 0.0087650\ttotal: 11.5s\tremaining: 3.03s\n",
            "396:\tlearn: 0.0087650\ttotal: 11.6s\tremaining: 3s\n",
            "397:\tlearn: 0.0087650\ttotal: 11.6s\tremaining: 2.97s\n",
            "398:\tlearn: 0.0087650\ttotal: 11.6s\tremaining: 2.94s\n",
            "399:\tlearn: 0.0087650\ttotal: 11.6s\tremaining: 2.91s\n",
            "400:\tlearn: 0.0087650\ttotal: 11.7s\tremaining: 2.88s\n",
            "401:\tlearn: 0.0087650\ttotal: 11.7s\tremaining: 2.85s\n",
            "402:\tlearn: 0.0087650\ttotal: 11.7s\tremaining: 2.82s\n",
            "403:\tlearn: 0.0087650\ttotal: 11.7s\tremaining: 2.79s\n",
            "404:\tlearn: 0.0087650\ttotal: 11.7s\tremaining: 2.75s\n",
            "405:\tlearn: 0.0087650\ttotal: 11.8s\tremaining: 2.73s\n",
            "406:\tlearn: 0.0087650\ttotal: 11.8s\tremaining: 2.69s\n",
            "407:\tlearn: 0.0087650\ttotal: 11.8s\tremaining: 2.66s\n",
            "408:\tlearn: 0.0087650\ttotal: 11.8s\tremaining: 2.63s\n",
            "409:\tlearn: 0.0087650\ttotal: 11.9s\tremaining: 2.6s\n",
            "410:\tlearn: 0.0087650\ttotal: 11.9s\tremaining: 2.57s\n",
            "411:\tlearn: 0.0087650\ttotal: 11.9s\tremaining: 2.54s\n",
            "412:\tlearn: 0.0087650\ttotal: 11.9s\tremaining: 2.52s\n",
            "413:\tlearn: 0.0087650\ttotal: 12s\tremaining: 2.48s\n",
            "414:\tlearn: 0.0087650\ttotal: 12s\tremaining: 2.46s\n",
            "415:\tlearn: 0.0087650\ttotal: 12s\tremaining: 2.43s\n",
            "416:\tlearn: 0.0087650\ttotal: 12s\tremaining: 2.4s\n",
            "417:\tlearn: 0.0087650\ttotal: 12.1s\tremaining: 2.37s\n",
            "418:\tlearn: 0.0087650\ttotal: 12.1s\tremaining: 2.34s\n",
            "419:\tlearn: 0.0087650\ttotal: 12.1s\tremaining: 2.31s\n",
            "420:\tlearn: 0.0087650\ttotal: 12.1s\tremaining: 2.28s\n",
            "421:\tlearn: 0.0087650\ttotal: 12.2s\tremaining: 2.25s\n",
            "422:\tlearn: 0.0087650\ttotal: 12.2s\tremaining: 2.22s\n",
            "423:\tlearn: 0.0087650\ttotal: 12.2s\tremaining: 2.19s\n",
            "424:\tlearn: 0.0087650\ttotal: 12.2s\tremaining: 2.16s\n",
            "425:\tlearn: 0.0087650\ttotal: 12.3s\tremaining: 2.13s\n",
            "426:\tlearn: 0.0087650\ttotal: 12.3s\tremaining: 2.1s\n",
            "427:\tlearn: 0.0087650\ttotal: 12.3s\tremaining: 2.07s\n",
            "428:\tlearn: 0.0087650\ttotal: 12.3s\tremaining: 2.04s\n",
            "429:\tlearn: 0.0087650\ttotal: 12.4s\tremaining: 2.01s\n",
            "430:\tlearn: 0.0087650\ttotal: 12.4s\tremaining: 1.98s\n",
            "431:\tlearn: 0.0087650\ttotal: 12.4s\tremaining: 1.95s\n",
            "432:\tlearn: 0.0087650\ttotal: 12.4s\tremaining: 1.92s\n",
            "433:\tlearn: 0.0087650\ttotal: 12.5s\tremaining: 1.89s\n",
            "434:\tlearn: 0.0087650\ttotal: 12.5s\tremaining: 1.86s\n",
            "435:\tlearn: 0.0087650\ttotal: 12.5s\tremaining: 1.84s\n",
            "436:\tlearn: 0.0087650\ttotal: 12.5s\tremaining: 1.81s\n",
            "437:\tlearn: 0.0087650\ttotal: 12.6s\tremaining: 1.78s\n",
            "438:\tlearn: 0.0087650\ttotal: 12.6s\tremaining: 1.75s\n",
            "439:\tlearn: 0.0087650\ttotal: 12.6s\tremaining: 1.72s\n",
            "440:\tlearn: 0.0087650\ttotal: 12.6s\tremaining: 1.69s\n",
            "441:\tlearn: 0.0087650\ttotal: 12.7s\tremaining: 1.66s\n",
            "442:\tlearn: 0.0087650\ttotal: 12.7s\tremaining: 1.63s\n",
            "443:\tlearn: 0.0087650\ttotal: 12.7s\tremaining: 1.6s\n",
            "444:\tlearn: 0.0087650\ttotal: 12.7s\tremaining: 1.57s\n",
            "445:\tlearn: 0.0087650\ttotal: 12.8s\tremaining: 1.54s\n",
            "446:\tlearn: 0.0087650\ttotal: 12.8s\tremaining: 1.51s\n",
            "447:\tlearn: 0.0087650\ttotal: 12.8s\tremaining: 1.49s\n",
            "448:\tlearn: 0.0087650\ttotal: 12.8s\tremaining: 1.46s\n",
            "449:\tlearn: 0.0087650\ttotal: 12.9s\tremaining: 1.43s\n",
            "450:\tlearn: 0.0087650\ttotal: 12.9s\tremaining: 1.4s\n",
            "451:\tlearn: 0.0087650\ttotal: 12.9s\tremaining: 1.37s\n",
            "452:\tlearn: 0.0087650\ttotal: 12.9s\tremaining: 1.34s\n",
            "453:\tlearn: 0.0087650\ttotal: 12.9s\tremaining: 1.31s\n",
            "454:\tlearn: 0.0087650\ttotal: 13s\tremaining: 1.28s\n",
            "455:\tlearn: 0.0087650\ttotal: 13s\tremaining: 1.25s\n",
            "456:\tlearn: 0.0087650\ttotal: 13s\tremaining: 1.23s\n",
            "457:\tlearn: 0.0087650\ttotal: 13.1s\tremaining: 1.2s\n",
            "458:\tlearn: 0.0087650\ttotal: 13.1s\tremaining: 1.17s\n",
            "459:\tlearn: 0.0087650\ttotal: 13.1s\tremaining: 1.14s\n",
            "460:\tlearn: 0.0087650\ttotal: 13.1s\tremaining: 1.11s\n",
            "461:\tlearn: 0.0087650\ttotal: 13.2s\tremaining: 1.08s\n",
            "462:\tlearn: 0.0087650\ttotal: 13.2s\tremaining: 1.05s\n",
            "463:\tlearn: 0.0087650\ttotal: 13.2s\tremaining: 1.02s\n",
            "464:\tlearn: 0.0087650\ttotal: 13.2s\tremaining: 997ms\n",
            "465:\tlearn: 0.0087650\ttotal: 13.3s\tremaining: 968ms\n",
            "466:\tlearn: 0.0087650\ttotal: 13.3s\tremaining: 940ms\n",
            "467:\tlearn: 0.0087650\ttotal: 13.3s\tremaining: 911ms\n",
            "468:\tlearn: 0.0087650\ttotal: 13.3s\tremaining: 882ms\n",
            "469:\tlearn: 0.0087650\ttotal: 13.4s\tremaining: 854ms\n",
            "470:\tlearn: 0.0087650\ttotal: 13.4s\tremaining: 825ms\n",
            "471:\tlearn: 0.0087650\ttotal: 13.4s\tremaining: 796ms\n",
            "472:\tlearn: 0.0087650\ttotal: 13.4s\tremaining: 768ms\n",
            "473:\tlearn: 0.0087650\ttotal: 13.5s\tremaining: 739ms\n",
            "474:\tlearn: 0.0087650\ttotal: 13.5s\tremaining: 711ms\n",
            "475:\tlearn: 0.0087650\ttotal: 13.5s\tremaining: 682ms\n",
            "476:\tlearn: 0.0087650\ttotal: 13.5s\tremaining: 653ms\n",
            "477:\tlearn: 0.0087650\ttotal: 13.6s\tremaining: 625ms\n",
            "478:\tlearn: 0.0087650\ttotal: 13.6s\tremaining: 596ms\n",
            "479:\tlearn: 0.0087650\ttotal: 13.6s\tremaining: 568ms\n",
            "480:\tlearn: 0.0087650\ttotal: 13.6s\tremaining: 539ms\n",
            "481:\tlearn: 0.0087650\ttotal: 13.7s\tremaining: 510ms\n",
            "482:\tlearn: 0.0087650\ttotal: 13.7s\tremaining: 482ms\n",
            "483:\tlearn: 0.0087650\ttotal: 13.7s\tremaining: 454ms\n",
            "484:\tlearn: 0.0087650\ttotal: 13.8s\tremaining: 425ms\n",
            "485:\tlearn: 0.0087650\ttotal: 13.8s\tremaining: 397ms\n",
            "486:\tlearn: 0.0087650\ttotal: 13.8s\tremaining: 369ms\n",
            "487:\tlearn: 0.0087650\ttotal: 13.8s\tremaining: 340ms\n",
            "488:\tlearn: 0.0087650\ttotal: 13.9s\tremaining: 312ms\n",
            "489:\tlearn: 0.0087650\ttotal: 13.9s\tremaining: 283ms\n",
            "490:\tlearn: 0.0087650\ttotal: 13.9s\tremaining: 255ms\n",
            "491:\tlearn: 0.0087650\ttotal: 13.9s\tremaining: 227ms\n",
            "492:\tlearn: 0.0087650\ttotal: 14s\tremaining: 198ms\n",
            "493:\tlearn: 0.0087650\ttotal: 14s\tremaining: 170ms\n",
            "494:\tlearn: 0.0087649\ttotal: 14s\tremaining: 142ms\n",
            "495:\tlearn: 0.0087649\ttotal: 14s\tremaining: 113ms\n",
            "496:\tlearn: 0.0087649\ttotal: 14.1s\tremaining: 84.9ms\n",
            "497:\tlearn: 0.0087649\ttotal: 14.1s\tremaining: 56.6ms\n",
            "498:\tlearn: 0.0087649\ttotal: 14.1s\tremaining: 28.3ms\n",
            "499:\tlearn: 0.0087649\ttotal: 14.1s\tremaining: 0us\n"
          ]
        },
        {
          "data": {
            "text/plain": [
              "<catboost.core.CatBoostClassifier at 0x7ff0b34de8f0>"
            ]
          },
          "execution_count": 52,
          "metadata": {},
          "output_type": "execute_result"
        }
      ],
      "source": [
        "model_3 = CatBoostClassifier(iterations=500, learning_rate=0.1)\n",
        "model_3.fit(X_train, y_train)"
      ]
    },
    {
      "cell_type": "code",
      "execution_count": 53,
      "metadata": {},
      "outputs": [],
      "source": [
        "pred_3 = model_3.predict(X_test)"
      ]
    },
    {
      "cell_type": "code",
      "execution_count": 54,
      "metadata": {},
      "outputs": [
        {
          "name": "stdout",
          "output_type": "stream",
          "text": [
            "0.9976987353093392\n",
            "0.9980640954912483\n",
            "0.997343811079816\n"
          ]
        }
      ],
      "source": [
        "print(accuracy_score(pred_3, y_test))\n",
        "print(recall_score(pred_3, y_test))\n",
        "print(precision_score(pred_3, y_test))"
      ]
    }
  ],
  "metadata": {
    "colab": {
      "provenance": []
    },
    "kernelspec": {
      "display_name": "Python 3",
      "name": "python3"
    },
    "language_info": {
      "codemirror_mode": {
        "name": "ipython",
        "version": 3
      },
      "file_extension": ".py",
      "mimetype": "text/x-python",
      "name": "python",
      "nbconvert_exporter": "python",
      "pygments_lexer": "ipython3",
      "version": "3.10.9"
    }
  },
  "nbformat": 4,
  "nbformat_minor": 0
}
